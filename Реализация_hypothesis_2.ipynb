{
  "nbformat": 4,
  "nbformat_minor": 0,
  "metadata": {
    "colab": {
      "name": "Реализация_hypothesis_2.ipynb",
      "provenance": [],
      "collapsed_sections": [],
      "authorship_tag": "ABX9TyMmGim42T7ik4YGXqzpklva",
      "include_colab_link": true
    },
    "kernelspec": {
      "display_name": "Python 3",
      "name": "python3"
    },
    "language_info": {
      "name": "python"
    },
    "accelerator": "GPU"
  },
  "cells": [
    {
      "cell_type": "markdown",
      "metadata": {
        "id": "view-in-github",
        "colab_type": "text"
      },
      "source": [
        "<a href=\"https://colab.research.google.com/github/mkorlyakova/test-face-recognition/blob/main/%D0%A0%D0%B5%D0%B0%D0%BB%D0%B8%D0%B7%D0%B0%D1%86%D0%B8%D1%8F_hypothesis_2.ipynb\" target=\"_parent\"><img src=\"https://colab.research.google.com/assets/colab-badge.svg\" alt=\"Open In Colab\"/></a>"
      ]
    },
    {
      "cell_type": "markdown",
      "metadata": {
        "id": "T0NfizKvC61K"
      },
      "source": [
        "**Импорт рабочих библиотек**"
      ]
    },
    {
      "cell_type": "code",
      "metadata": {
        "id": "7UVXT71SkNQb"
      },
      "source": [
        "import os\n",
        "\n",
        "import matplotlib.pyplot as plt\n",
        "import numpy as np\n",
        "import pandas as pd\n",
        "\n",
        "import cv2 as cv\n",
        "import tarfile\n"
      ],
      "execution_count": null,
      "outputs": []
    },
    {
      "cell_type": "code",
      "metadata": {
        "id": "MAiooouKQFkI"
      },
      "source": [
        "from scipy.stats import mannwhitneyu\n",
        "from scipy.stats import wilcoxon\n",
        "import scipy.stats as st\n"
      ],
      "execution_count": null,
      "outputs": []
    },
    {
      "cell_type": "code",
      "metadata": {
        "id": "0tRxo8SFLLju"
      },
      "source": [
        "import seaborn as sns"
      ],
      "execution_count": null,
      "outputs": []
    },
    {
      "cell_type": "markdown",
      "metadata": {
        "id": "p1oV1zJwDA9Z"
      },
      "source": [
        "Подключение к диску с данными"
      ]
    },
    {
      "cell_type": "markdown",
      "metadata": {
        "id": "u1DMFErADfbf"
      },
      "source": [
        ""
      ]
    },
    {
      "cell_type": "code",
      "metadata": {
        "id": "mjCl308ifZZX"
      },
      "source": [
        "import tensorflow as tf\n",
        "import tensorflow.keras as keras\n",
        "from tensorflow.keras.utils import Sequence"
      ],
      "execution_count": null,
      "outputs": []
    },
    {
      "cell_type": "code",
      "metadata": {
        "colab": {
          "base_uri": "https://localhost:8080/"
        },
        "id": "pTQVOy-oYuIR",
        "outputId": "d1cb7a62-38dd-4b10-fb21-d0371851e420"
      },
      "source": [
        "from google.colab import drive\n",
        "drive.mount('/gdrive')\n"
      ],
      "execution_count": null,
      "outputs": [
        {
          "output_type": "stream",
          "name": "stdout",
          "text": [
            "Mounted at /gdrive\n"
          ]
        }
      ]
    },
    {
      "cell_type": "markdown",
      "metadata": {
        "id": "WzGb-mTnYf4T"
      },
      "source": [
        "## *Гипотеза* 2 : \n",
        "  **metric lening**\n",
        "\n",
        "###  Реализация:\n",
        " - проводим массивный поиск гиперпараметров:    \n",
        "      - по функциям потерь\n",
        "      - по размеру сети\n",
        "      - по Эмбедингу [32-128]\n",
        " - предобработки : ?\n",
        " - тренировка сети: выделить валидационный кусок и тренировочный \n",
        " - анализ результат (метрики): accuracy, EER, FAR,FRR\n",
        "\n",
        "\n",
        "\n"
      ]
    },
    {
      "cell_type": "markdown",
      "metadata": {
        "id": "ftKrYAjWIj70"
      },
      "source": [
        "Вопрос: ВАЖЕН ЛИ СПОСОБ СЖАТИЯ из 112 в 32?\n"
      ]
    },
    {
      "cell_type": "code",
      "metadata": {
        "id": "Uc7LhJtX40_u"
      },
      "source": [
        "# Генератор данных для обучения\n",
        "class CustomDataGenFace(Sequence):\n",
        "  \n",
        "  \n",
        "  def __init__(self, \n",
        "               batch_size,\n",
        "               input_size=(32, 32, 3),\n",
        "               zipfile = '/gdrive/MyDrive/Face recognition/casia_faces.tar.gz',\n",
        "               lab = 1,\n",
        "               scale = [32,32],\n",
        "               shuffle=True,\n",
        "               ind1 = 1,\n",
        "               ind2 = 10000):\n",
        "    \"\"\"\n",
        "    batch_size,\n",
        "    input_size=(32, 32, 3),\n",
        "    zipfile = '/gdrive/MyDrive/Face recognition/casia_faces.tar.gz',\n",
        "    lab = 1,\n",
        "    scale = [32,32],\n",
        "    shuffle=True,\n",
        "    ind1 = 1,\n",
        "    ind2 = 10000\n",
        "    \"\"\"\n",
        "\n",
        "    super().__init__()\n",
        "    self.__batch_size = batch_size # 1\n",
        "    self.input_size = input_size # \n",
        "    self.shuffle = shuffle\n",
        "    self.scale = scale\n",
        "    self.lab = lab # Lab\n",
        "    self.zipfile = zipfile\n",
        "    self.ind1 = ind1\n",
        "    self.ind2 = ind2\n",
        "\n",
        "    # роткрыть данные из архива на локальный диск\n",
        "    if self.zipfile.endswith(\"tar.gz\"):\n",
        "      self.tar = tarfile.open(self.zipfile, \"r:gz\")\n",
        "    elif self.zipfile.endswith(\"tar\"):\n",
        "      self.tar = tarfile.open(self.zipfile, \"r:\")\n",
        "    self.ll = self.tar.getmembers( )\n",
        "    for k in self.ll[ind1:ind2]:\n",
        "      self.tar.extract( k )\n",
        "    self.tar.close()\n",
        "\n",
        "\n",
        "  def __del__():\n",
        "    \n",
        "    #self.tar.close()\n",
        "    super().__del__()\n",
        "  \n",
        "  def set_batch_size(self, batch_size):\n",
        "        self.__batch_size = batch_size\n",
        "        \n",
        " \n",
        "  def get_batch_size(self):\n",
        "        return self.__batch_size  \n",
        "\n",
        "\n",
        "  def label_extract(self,index):\n",
        "    try:\n",
        "      #print(index)\n",
        "      s = self.ll[index].name.split('/')\n",
        "      \"\"\"\n",
        "      if not os.path.exists(self.ll[index].name):\n",
        "        #print(s)\n",
        "        self.tar = tarfile.open(self.zipfile, \"r:gz\")\n",
        "        self.tar.extract( self.ll[index] ) \n",
        "        self.tar.close()\n",
        "      \"\"\"  \n",
        "      #print(self.ll[index])\n",
        "      if len(s)>2:\n",
        "      #if s[-2].find('person_')>=0:\n",
        "        k = s[-2].find('person_')\n",
        "        #print(k)\n",
        "        if k>=0:\n",
        "          label = s[-2][k+7:]\n",
        "          #print(label)\n",
        "          return int(label)\n",
        "        else:\n",
        "          return -1  \n",
        "      else:\n",
        "        return -1\n",
        "    except FileNotFoundError:\n",
        "      return -1      \n",
        "  \n",
        "  def image_extract(self,index):\n",
        "    try:\n",
        "      s = self.ll[index].name\n",
        "      #print(s)\n",
        "      img = cv.imread(s )\n",
        "      if type(img) == type(cv.imread('')) :\n",
        "        return np.zeros((1,32,32,3)), 0  \n",
        "      else:\n",
        "        img = cv.resize(img,(self.scale[1],self.scale[0]))\n",
        "          \n",
        "      if self.lab:\n",
        "        img = cv.cvtColor(img, cv.COLOR_RGB2LAB)\n",
        "      img = img.reshape(-1,self.scale[1],self.scale[0],3)\n",
        "      return img, np.mean(img)\n",
        "    except FileNotFoundError:\n",
        "      return np.zeros((1,32,32,3)), 0\n",
        "  \n",
        "  #rotate image\n",
        "  def rotation(self, image, angle):\n",
        "    s = image.shape\n",
        "    center=tuple(np.array([s[0],s[1]])/2)\n",
        "    rot_mat = cv.getRotationMatrix2D(center,angle,1.0)\n",
        "    new_image = cv.warpAffine(image, rot_mat, (s[1],s[0]))\n",
        "    return \n",
        "    \n",
        "  \n",
        "    \n",
        "  def on_epoch_end(self):\n",
        "    pass\n",
        "\n",
        "  def getitemIL(self, index):\n",
        "    #print(index)\n",
        "    image = []\n",
        "    label = []\n",
        "    try:\n",
        "      i = 0\n",
        "      \n",
        "      while (len(label)<1)&(i<10):\n",
        "        \n",
        "        k = self.label_extract(index)\n",
        "        if k>= 0:\n",
        "          image_, m = self.image_extract(index)\n",
        "          if m>0:\n",
        "            label_ = k\n",
        "            #print(image_.shape, label_)\n",
        "            image = image_\n",
        "            label = label_\n",
        "        i += 1\n",
        "          \n",
        "      return np.array(image),np.array(label)\n",
        "    except FileNotFoundError:\n",
        "      return np.zeros((1,32,32,3)),-1* np.ones((1, ))\n",
        "  \n",
        "  \n",
        "  def __len__(self):\n",
        "    \n",
        "    return len(self.ll) // self.batch_size  \n",
        "    \n",
        "  def __getitem__(self, index):\n",
        "    #print(index)\n",
        "    image = []\n",
        "    label = []\n",
        "    try:\n",
        "      i = 0\n",
        "      ind = np.random.randint(0,self.__batch_size, (self.__batch_size*2))\n",
        "      if (index<self.ind1)or((index+self.__batch_size)>self.ind2):\n",
        "            if self.zipfile.endswith(\"tar.gz\"):\n",
        "              self.tar = tarfile.open(self.zipfile, \"r:gz\")\n",
        "            elif self.zipfile.endswith(\"tar\"):\n",
        "              self.tar = tarfile.open(self.zipfile, \"r:\")\n",
        "            self.ll = self.tar.getmembers( )\n",
        "            for k in self.ll[index:index+self.__batch_size]:\n",
        "              self.tar.extract( k )\n",
        "            self.tar.close()\n",
        "\n",
        "      while (len(label)<self.__batch_size)&(i<self.__batch_size*2):\n",
        "        \n",
        "        k = self.label_extract(index+ind[i])\n",
        "        if k>= 0:\n",
        "          image_, m = self.image_extract(index+ind[i])\n",
        "          if m>0:\n",
        "            label_ = k\n",
        "            #print(image_.shape, label_)\n",
        "            image.append(image_[0,:,:,:])\n",
        "            label.append(label_)\n",
        "        i += 1\n",
        "          \n",
        "      return np.array(image),np.array(label)\n",
        "    except FileNotFoundError:\n",
        "      return np.zeros((1,32,32,3)),-1* np.ones((1, ))\n",
        "  def __len__(self):\n",
        "    \n",
        "    return len(self.ll) // self.batch_size"
      ],
      "execution_count": null,
      "outputs": []
    },
    {
      "cell_type": "markdown",
      "metadata": {
        "id": "GeAJ6RtQHNK3"
      },
      "source": [
        "Запуск генератора: \n",
        "  - читаем каталог примеров на диск\n",
        "  - задаем размер пакета"
      ]
    },
    {
      "cell_type": "code",
      "metadata": {
        "id": "9LEM0qbT3e71",
        "colab": {
          "base_uri": "https://localhost:8080/"
        },
        "outputId": "13cdd338-584c-4d09-a8f3-53155f8490a0"
      },
      "source": [
        "gen_d = CustomDataGenFace(100)"
      ],
      "execution_count": null,
      "outputs": [
        {
          "output_type": "stream",
          "name": "stderr",
          "text": [
            "Exception ignored in: <function CustomDataGenFace.__del__ at 0x7f3224572a70>\n",
            "TypeError: __del__() takes 0 positional arguments but 1 was given\n"
          ]
        }
      ]
    },
    {
      "cell_type": "markdown",
      "metadata": {
        "id": "s4rvbbATbaGB"
      },
      "source": [
        "Схема сети для эмбединга: \n",
        "\n",
        " - layer[0] сверточных блоков (С-С-MP)\n",
        " - layer[1] полносвязных блоков (FC-Drop)"
      ]
    },
    {
      "cell_type": "code",
      "metadata": {
        "id": "wr_SUI9z6SMl"
      },
      "source": [
        "EMB_SIZE = 50\n",
        "\n",
        "def net_creat(EMB_SIZE = 50, im_size = (32,32,3),X_size = 8, layer = [5,3], numb_neuro = 1):\n",
        "  # поток I\n",
        "  inp_x_im = tf.keras.layers.Input(shape=(im_size[0], im_size[1], im_size[2]))\n",
        "  \n",
        "  x1 = tf.keras.layers.Conv2D(32*numb_neuro, (3, 3), padding='same', activation='relu')(inp_x_im)\n",
        "  for k in range(layer[0]):\n",
        "    x1 = tf.keras.layers.Conv2D(64*numb_neuro, (3, 3), padding='same', activation='relu')(x1)\n",
        "    x1 = tf.keras.layers.Conv2D(64*numb_neuro, (3, 3), padding='same', activation='relu')(x1)\n",
        "    x1 = tf.keras.layers.MaxPool2D((2, 2), (2, 2))(x1)\n",
        "    \n",
        "  x1 = tf.keras.layers.Flatten()(x1)\n",
        "  # поток Х \n",
        "  x = tf.keras.layers.Dense(256, activation='relu')(x1)\n",
        "  x = tf.keras.layers.Dropout(0.5)(x)\n",
        "  for k in range(layer[1]):\n",
        "    x = tf.keras.layers.Dense(EMB_SIZE*numb_neuro, activation='relu')(x)\n",
        "    x = tf.keras.layers.Dropout(0.5)(x)\n",
        "  x = tf.keras.layers.Dense(EMB_SIZE, activation=None)(x)\n",
        "\n",
        "  return tf.keras.models.Model( inputs =inp_x_im, outputs = x)  "
      ],
      "execution_count": null,
      "outputs": []
    },
    {
      "cell_type": "code",
      "metadata": {
        "id": "axNdmetgK2Qk"
      },
      "source": [
        "NUM_EPOCHS =5 # число эпох \n",
        "NUM_BATCH = 40 # число пакетов\n",
        "\n",
        "LEARNING_RATE = 0.001 # скорость обучения\n",
        "\n",
        "# оптимизатор\n",
        "optimizer = tf.keras.optimizers.Adam(LEARNING_RATE)\n",
        "# зазор\n",
        "MARGIN = 100.0"
      ],
      "execution_count": null,
      "outputs": []
    },
    {
      "cell_type": "code",
      "metadata": {
        "id": "p9zhussdLk60"
      },
      "source": [
        "\n",
        "# https://www.pyimagesearch.com/2021/01/18/contrastive-loss-for-siamese-networks-with-keras-and-tensorflow/\n",
        "# Функция потерь\n",
        "def contastive_loss(embs, labels):\n",
        "  # print(embs,labels)\n",
        "  bs = embs.shape[0]\n",
        "  embs1 = embs[:bs//2, :]\n",
        "  embs2 = embs[bs//2:, :]\n",
        "  \n",
        "  labels1 = labels[:bs//2]\n",
        "  labels2 = labels[bs//2:]\n",
        "  #print(labels1,labels2)\n",
        "  d2 = tf.reduce_sum(tf.square(embs1 - embs2), axis=1)\n",
        "  d =  tf.sqrt(d2)\n",
        "  z = tf.cast(labels1 == labels2, tf.float32)\n",
        "    \n",
        "    \n",
        "  return tf.reduce_mean(z * d2 + (1-z) * tf.maximum(0, MARGIN - d)**2)\n",
        "\n",
        "# https://www.pyimagesearch.com/2021/01/18/contrastive-loss-for-siamese-networks-with-keras-and-tensorflow/\n",
        "# Функция потерь\n",
        "def loss_cos(embs, labels):\n",
        "  # print(embs,labels)\n",
        "  bs = embs.shape[0]\n",
        "  embs1 = embs[:bs//2, :]\n",
        "  embs2 = embs[bs//2:, :]\n",
        "  print(embs1,embs2)\n",
        "  labels1 = labels[:bs//2]\n",
        "  labels2 = labels[bs//2:]\n",
        "  print(labels1,labels2)\n",
        " \n",
        "  d2 =tf.keras.losses.cosine_similarity(embs1, embs2, axis =-1 )\n",
        "  print(d2)\n",
        "  d =  (d2 - MARGIN)\n",
        "  z = tf.cast(labels1 == labels2, tf.float64)\n",
        "  print(z)  \n",
        "  \n",
        "  print( (1-z) * tf.maximum(0, MARGIN - d)**2)\n",
        "    \n",
        "  return tf.reduce_mean(z * d2 + (1-z)*(-d2))  "
      ],
      "execution_count": null,
      "outputs": []
    },
    {
      "cell_type": "code",
      "metadata": {
        "id": "-E2P_CjLLsQk"
      },
      "source": [
        "# обучение сиамской сети\n",
        "\n",
        "def train_step(model, I,L,hist, func_loss = loss_cos):\n",
        "  '''\n",
        "  Реализация одного шага обучения (для одной картинки по всем ее рамкам )\n",
        "  model - модель, \n",
        "  I,X,L - признаки и метки, \n",
        "  ind - индексы для пакета\n",
        "  '''\n",
        "\n",
        "  #print(ind_iter)\n",
        "  # Forward\n",
        "  with tf.GradientTape() as tape:\n",
        "        \n",
        "        embs = model( I)\n",
        "        #print(embs.numpy())\n",
        "       \n",
        "        loss_value = func_loss(embs, L)\n",
        "       \n",
        "        \n",
        "  # Backward\n",
        "  grads = tape.gradient(loss_value, model.variables)\n",
        "  optimizer.apply_gradients(zip(grads, model.variables))\n",
        "  hist.append(loss_value.numpy())\n",
        "  if loss_value.numpy()!=0:\n",
        "            print( loss_value.numpy())\n",
        "  return model, hist   "
      ],
      "execution_count": null,
      "outputs": []
    },
    {
      "cell_type": "code",
      "metadata": {
        "id": "PfelQwy-L0D9"
      },
      "source": [
        "image_shape = []\n",
        "numb_bound = []\n",
        "image_shape = []\n",
        "numb_bound = []\n",
        "hist = []"
      ],
      "execution_count": null,
      "outputs": []
    },
    {
      "cell_type": "code",
      "metadata": {
        "id": "wSX8IFeEK-q-"
      },
      "source": [
        "# вычисление метрики для вложеня (Euqlid)\n",
        "def diff(e1, e2):\n",
        "    return np.sum((e1 - e2)**2) ** 0.5\n",
        "\n",
        "# вычисление пар по меткам\n",
        "#for i in range(len(L)-1):\n",
        "#  for j in range(i+1,len(L)): \n",
        "#    if (lab[j] != -1) & (lab[i] != -1):\n",
        "#      print(lab[i],' <-> : ',lab[j], ' : ', diff(emb[i], emb[j]))"
      ],
      "execution_count": null,
      "outputs": []
    },
    {
      "cell_type": "code",
      "metadata": {
        "id": "ApUVbOn9eiYg"
      },
      "source": [
        "gen_d.set_batch_size(100)"
      ],
      "execution_count": null,
      "outputs": []
    },
    {
      "cell_type": "code",
      "metadata": {
        "id": "hib7WfKgLIp9"
      },
      "source": [
        "# метрики по эмбедингу (вложению)\n",
        "def my_embed_metric(X,L):\n",
        "  net_dist = np.ones((X.shape[0],X.shape[0])) # нормированное расстояние - инициализация 1(пока)\n",
        "  label_dist = np.ones((X.shape[0],X.shape[0])) # нормированное расстояние - инициализация 1(пока)\n",
        "  for i in range(X.shape[0]-1):\n",
        "    for j in range(i+1,X.shape[0]):\n",
        "      net_dist[i,j] = diff( X[i,:],X[j,:])\n",
        "      net_dist[j,i] =  net_dist[i,j]\n",
        "      label_dist[i,j] = int(L[i] == L[j])\n",
        "      label_dist[j,i] =  label_dist[i,j]\n",
        "\n",
        "      \n",
        "\n",
        "      \n",
        "  return net_dist, label_dist# \n",
        "\n",
        "def image_clast_net(image_name='',  model=None,  ind=13200,  verbose=1, gen_d  = None):\n",
        "  '''\n",
        "  полный цикл для кластер- анализа\n",
        "  вход:\n",
        "  image_name - имя картинки, json_arr - имя аннотации, verbose = 0, w = 15\n",
        "  \n",
        "  centr = True - строим картинки для данных из центроида (или False - из рамки ), \n",
        "  wx - размер половины картинки по любой оси\n",
        "  w - число пикселей на расширение рамки в стороны  \n",
        "   \n",
        "  гиперпараметры алгоритма\n",
        "\n",
        "  im_proc = 0.1 - часть не отнесенных к кластерам картинок,  \n",
        "  \n",
        "  verbose = 1 - визуализировать результат (0 - не визуализировать)\n",
        "\n",
        "  Строим признаки:\n",
        "  Х массив векторов в составе:\n",
        "   - центроиды (сх, су)\n",
        "   - коробка из данных json (BoundingBox)\n",
        "   - Размеры по Х, У (ширина , высота)\n",
        "  I - картинка вокруг центроида (centr = True) или в рамке из box_bound (centr = Falce)\n",
        "  L - разметка по кластеранализу\n",
        "  iou,n_dist,m_dist - метрики \n",
        "  box_bound_clear - рамки\n",
        "  \n",
        "  ''' \n",
        "\n",
        "  I = []\n",
        "  L = []\n",
        "  \n",
        "  \n",
        "  # картинке ставим в соответствие аннотацию\n",
        "  batch_size = gen_d.get_batch_size()*2\n",
        "  \n",
        " \n",
        "  if 1:\n",
        "    # строим признаки \n",
        "    I1,L_1 = gen_d[ind]\n",
        "    I2,L_2 = gen_d[ind+ np.random.randint(5000)]\n",
        "\n",
        "    I = np.vstack((I1,I2))\n",
        "    L = np.hstack( (L_1,L_2))\n",
        "\n",
        "    #смешать данные\n",
        "\n",
        "    ind1 = np.arange(len(L_1)).tolist()\n",
        "    \n",
        "    ind2 = (np.arange(len(L_2)) + (batch_size // 2)).tolist()\n",
        "\n",
        "    ind  = ind1[::2]+ind2[::2]+ind1[1::2]+ind2[1::2]\n",
        "\n",
        "    \n",
        "    I = I[ind,:,:,:]\n",
        "    L = L[ind]\n",
        "    print(I.shape,L.shape)\n",
        "    batch_size = len(L)\n",
        "\n",
        "\n",
        "    # строим метрики\n",
        "    if 1:\n",
        "      \n",
        "      X_emb = model.predict(I)\n",
        "      n_emb,l_dist = my_embed_metric(X_emb,L)\n",
        "\n",
        "      if verbose:\n",
        "        plt.figure(figsize = (16,5))\n",
        "        plt.subplot(1,3,1)\n",
        "        plt.imshow(n_emb)\n",
        "        plt.title('Эмбединг')\n",
        "        plt.subplot(1,3,2)\n",
        "        plt.imshow(n_emb * l_dist)\n",
        "        plt.title('Эмбединг 1')\n",
        "        plt.subplot(1,3,3)\n",
        "        plt.imshow(n_emb * (-l_dist+1))\n",
        "        plt.title('Эмбединг 0')  \n",
        "        plt.show()\n",
        "      # анализ  \n",
        "      Dist1 = []\n",
        "      Dist0 = []\n",
        "      for i in range(batch_size):\n",
        "        for j in range(i+1,batch_size-1):\n",
        "          if l_dist[i,j] :\n",
        "            Dist1.append(n_emb[i,j])\n",
        "          else:\n",
        "            Dist0.append(n_emb[i,j])  \n",
        "      if verbose:\n",
        "        plt.figure(figsize = (16,5))\n",
        "        plt.subplot(1,2,1)\n",
        "        plt.hist(Dist0,alpha = 0.5,bins = 100, label = 'labeli!=labelj : 0')\n",
        "        plt.hist(Dist1,alpha = 0.5,bins = 100, label = 'labeli!=labelj : 1')\n",
        "        plt.legend()\n",
        "      \n",
        "        plt.grid(True)\n",
        "        plt.title('распределение рaсстояний по типам пар')\n",
        "        plt.subplot(1,2,2)\n",
        "        sns.kdeplot(Dist0,)\n",
        "        sns.kdeplot(Dist1)\n",
        "        plt.grid(True)\n",
        "        plt.legend()\n",
        "        plt.title('распределение рaсстояний по типам пар')\n",
        "        plt.show()\n",
        "      m0 = np.mean(Dist0)\n",
        "      m1 = np.mean(Dist1)\n",
        "      print('средняя дистанция по 0:',m0)\n",
        "      print('средняя дистанция по 1:',m1)\n",
        "      d0 = np.std(Dist0)\n",
        "      d1 = np.std(Dist1)\n",
        "\n",
        "      L1 = len(Dist1)\n",
        "      L0 = len(Dist0)\n",
        "      if L1>L0:\n",
        "        L_d01 = L0\n",
        "      else:\n",
        "        L_d01 = L1  \n",
        "      print('std по 0:',d0)\n",
        "      print('std по 1:',d1)\n",
        "      conf_int0 = st.t.interval(0.99, len(Dist0)-1, loc=np.mean(Dist0), scale=st.sem(Dist0))\n",
        "      conf_int1 = st.t.interval(0.99, len(Dist1)-1, loc=np.mean(Dist1), scale=st.sem(Dist1))\n",
        "      print('доверит.интервал 0',conf_int0)\n",
        "      print('доверит.интервал 1',conf_int1)\n",
        "      print('интервал 3 sigms 0',[m0-d0*3,m0+d0*3])\n",
        "      print('интервал 3 sigma 1',[m1-d1*3,m1+d1*3])\n",
        "      if verbose:\n",
        "        plt.plot([0,0,0],[conf_int0[0],m0,conf_int0[1]],'-og', label='0')\n",
        "        plt.plot([1,1,1],[conf_int1[0],m1,conf_int1[1]], '-ok',label='1')\n",
        "        plt.plot([0,0,0],[m0-d0*3,m0,m0+d0*3],'--xb', label='3 sigma 0')\n",
        "        plt.plot([1,1,1],[m1-d1*3,m1,m1+d1*3], '--xr',label='3 sigma 1')\n",
        "        plt.legend()\n",
        "        plt.title('доверит.интервал по типам пар и 3sig')\n",
        "        plt.show()\n",
        "      wc = wilcoxon(Dist1[:L_d01],Dist0[:L_d01])[1]\n",
        "      mu = mannwhitneyu(Dist1,Dist0)[1]\n",
        "      print('тест Мана-Уитни p_value:', mu)\n",
        "      print('тест Вилкокса p_value:', wc)\n",
        "      stat_rez = [m0,m1,d0,d1,conf_int0[0],conf_int0[1],conf_int1[0],conf_int1[1],mu,wc,m0-d0*3,m0+d0*3,m1-d1*3,m1+d1*3]\n",
        "\n",
        "      \n",
        "    else:\n",
        "      print('нет фичей')\n",
        "  else:\n",
        "    print('не найден файл')\n",
        "  return I, L, n_emb, l_dist, stat_rez"
      ],
      "execution_count": null,
      "outputs": []
    },
    {
      "cell_type": "code",
      "metadata": {
        "id": "XQhanj3lLHEu"
      },
      "source": [
        "# Предсказание\n",
        "\n",
        "def L2_metric(X1,X2):\n",
        "  return np.sum((X1-X2) ** 2) ** 0.5\n",
        "def cos_metric(X1,X2):\n",
        "  return np.dot(X1.T/(np.sum(X1*X1))**0.5,X2/(np.sum(X2*X2))**0.5) \n",
        "\n",
        "def predict(I1,I2,model):\n",
        "  I = np.array([I1[:,:,:],I2[:,:,:]])\n",
        "  X_emb = model.predict(I)\n",
        "  n_emb = L2_metric(X_emb[0,:],X_emb[1,:])\n",
        "  return n_emb\n",
        "\n",
        "\n",
        "def pred_batch(ind, model,gen_d):\n",
        "  I,L = gen_d[ind]\n",
        "  n_emb = []\n",
        "  for i in range(len(L)//2):\n",
        "    p = predict(I[i,:,:,:],I[len(L)//2+i,:,:,:],model)\n",
        "    #print(p,I[i,:,:,:].mean(),I[len(L)//2+i,:,:,:].mean())\n",
        "    n_emb.append([p, int(L[i]==L[len(L)//2+i])])  \n",
        "  return n_emb\n",
        "\n"
      ],
      "execution_count": null,
      "outputs": []
    },
    {
      "cell_type": "code",
      "metadata": {
        "id": "4jgcBwvkpRJz"
      },
      "source": [
        "# https://habr.com/ru/post/317798/\n",
        "\n",
        "def calc_metrics(targets_scores, imposter_scores):\n",
        "    \"\"\"\n",
        "    targets_scores - значения выхода модели через метрику для пар, \n",
        "    imposter_scores - значения выхода модели через метрику для не пар,\n",
        "    \"\"\"\n",
        "    # диапазоны\n",
        "    min_score = np.minimum(np.min(targets_scores), np.min(imposter_scores))\n",
        "    max_score = np.maximum(np.max(targets_scores), np.max(imposter_scores))\n",
        "    print(min_score,max_score)\n",
        "    n_tars = len(targets_scores)\n",
        "    n_imps = len(imposter_scores)\n",
        "\n",
        "    N = 100\n",
        "\n",
        "    fars = np.zeros((N,))\n",
        "    frrs = np.zeros((N,))\n",
        "    dists = np.zeros((N,))\n",
        "\n",
        "    mink = float('inf')\n",
        "    eer = 0\n",
        "    min_i = 0\n",
        "    # поиск оптимальной точки\n",
        "    for i, dist in enumerate(np.linspace(min_score, max_score, N)):\n",
        "        far = len(np.where(imposter_scores > dist)[0]) / n_imps\n",
        "        frr = len(np.where(targets_scores < dist)[0]) / n_tars\n",
        "        # добавили оценки по этому порогу для dist\n",
        "        fars[i] = far\n",
        "        frrs[i] = frr\n",
        "        dists[i] = dist\n",
        "\n",
        "        k = np.abs(far - frr)\n",
        "\n",
        "        if k < mink:\n",
        "            mink = k\n",
        "            min_i = i\n",
        "            eer = (far + frr) / 2\n",
        "    # accuracy\n",
        "\n",
        "    if n_tars>n_imps:\n",
        "      nn = n_imps\n",
        "    else:\n",
        "      nn = n_tars\n",
        "    TN = np.sum(imposter_scores[:nn] > dists[min_i]) \n",
        "    TP = np.sum(targets_scores[:nn] < dists[min_i])\n",
        "    acc = (TP+TN)/(nn*2)\n",
        "\n",
        "\n",
        "    return eer, fars, frrs, dists, min_i, acc"
      ],
      "execution_count": null,
      "outputs": []
    },
    {
      "cell_type": "markdown",
      "metadata": {
        "id": "rFn0xvnOKxTW"
      },
      "source": [
        "Есть перспектива. Работаем на поиск модели:\n",
        "\n",
        "  - гиперпараметры: \n",
        "        - размер эмбединга\n",
        "        - размер сети\n",
        "        - лосс : перейти на cos \n",
        "        - размер пакета\n",
        "        - параметры оптимизитора\n",
        "\n",
        "  - доработать генератор:   \n",
        "        - строить более сложный пакет - на один шаг обучения брать 2 точки из генератора ( перенести раскрытие архива в инициализацию - кусками по тексту архива )\n",
        "\n",
        "  - написать метрику для финальной оценки \n",
        "  - уточнить тип метрики - завтра утром  "
      ]
    },
    {
      "cell_type": "markdown",
      "metadata": {
        "id": "WTdO0TWzgX9r"
      },
      "source": [
        "Дизайн эксперимента:\n",
        "  - размер эмбединга [16,32,64,128,256,512] \n",
        "  - размер входа 32х32х3 = 3072 - брать вложение(эмбединг) сильно больше не вижу смысла (пока)  \n",
        "  - по итогам первого этапа оценки приняли размер эмбединга 64\n",
        "  - размер сети (уложить размеры до 1М параметров - т.к. вход маленький) \n",
        "  - меняем число сверточных и полносвязных блоков от 1 до 4\n",
        "  - оцениваю различимость выборок расстояний для похожих и разных пар (стат.тесты: Манн-Уитниб Вилкокс - не параметрические, 2-хвыборочные)\n",
        "  - оцениваю кривые FAR/FRR\n",
        "  - строю визуальный контроль для распределений\n",
        "\n",
        "\n",
        "  - Сделаем по 5-10 повторов каждой конфигурации с новыми начальными параметрами\n",
        "\n",
        "  - Использую 5 эпох и 1000 пакетов в эпохе из случайного полождения генератора в интервале до 400000 для тренировки и после 400000 для теста"
      ]
    },
    {
      "cell_type": "code",
      "metadata": {
        "id": "z5oPFg7uKIsk"
      },
      "source": [
        "# Эксперимент\n",
        "\n",
        "rez = pd.DataFrame(data = np.zeros((120,18)), columns = ['Embed_size','dense_l','conv_l','loss_func','m0','m1','d0','d1','conf_int0[0]','conf_int0[1]','conf_int1[0]','conf_int1[1]','mu','wc','m0 -3s0','m0+3s0','m1 -3s1','m1+3s1']) \n"
      ],
      "execution_count": null,
      "outputs": []
    },
    {
      "cell_type": "code",
      "metadata": {
        "id": "6ghCEVW6s9Nn"
      },
      "source": [
        "rez.to_csv('/gdrive/MyDrive/Face recognition/rez.csv')"
      ],
      "execution_count": null,
      "outputs": []
    },
    {
      "cell_type": "code",
      "metadata": {
        "id": "FnORDXkZmU1H"
      },
      "source": [
        "\n",
        "\n",
        "epoch = 5\n",
        "m = 0\n",
        "for EMB_SIZE in  [64]:\n",
        "  for conv_l in [1,2,3,4]:\n",
        "    for dense_l in range(3):\n",
        "      LF = 0\n",
        "      for loss_func in [contastive_loss]:\n",
        "        LF += 1\n",
        "        plt.figure(figsize = (16,5))\n",
        "        for n in range(5):\n",
        "          model = net_creat(EMB_SIZE = EMB_SIZE, im_size = (32,32,3),X_size=8, layer = [conv_l,dense_l], numb_neuro=1)\n",
        "          image_shape = []\n",
        "\n",
        "          image_shape = []\n",
        "          numb_bound = []\n",
        "          hist = []\n",
        "          for ch in range(NUM_EPOCHS):\n",
        "            for i in range(1,10):\n",
        "              ind_i = np.random.randint(0,10000)\n",
        "              I,L = gen_d[ind_i]\n",
        "    \n",
        "              model, hist = train_step(model, I,L, hist,loss_func)\n",
        "          plt.subplot(1,2,1)\n",
        "          plt.plot(hist )\n",
        "          model.save_weights('/gdrive/MyDrive/Face recognition/'+'siam_net_'+str(EMB_SIZE)+'_'+str(k)+'_'+str(n) +'_.h5')\n",
        "          I, L, n_emb, l_dist,stats_rez = image_clast_net(image_name='',  model=model,  ind=12100,  verbose=1, gen_d = gen_d)\n",
        "          rez.iloc[m,:] =[EMB_SIZE,dense_l,conv_l, 0 ]+ stats_rez\n",
        "          m += 1\n",
        "          rez.to_csv('/gdrive/MyDrive/Face recognition/rez.csv')\n",
        "          r_embed  = pred_batch(12100, model,gen_d)\n",
        "          del model\n",
        "          r_embed = np.array(r_embed)\n",
        "          ind1 = np.where(r_embed[:,1] == 1)[0]\n",
        "          ind0 = np.where(r_embed[:,1] == 0)[0]\n",
        "\n",
        "          eer,far,frr,dist_, pdist, acc = calc_metrics(r_embed[ind1,0],r_embed[ind0,0])plt.subplot(1,2,2)\n",
        "          plt.plot(far.frr)\n",
        "          \n",
        "        plt.subplot(1,2,1)\n",
        "        plt.grid(True)\n",
        "        plt.xlabel('epoch')\n",
        "        plt.ylabel('loss')\n",
        "        plt.title(' dense '+str(dense_l)+' conv:'+str(conv_l))\n",
        "        plt.subplot(1,2,2)\n",
        "        plt.grid(True)\n",
        "        plt.xlabel('dist')\n",
        "        plt.ylabel('eer')\n",
        "        plt.show()  "
      ],
      "execution_count": null,
      "outputs": []
    },
    {
      "cell_type": "code",
      "metadata": {
        "id": "4QIXUbQuxabM"
      },
      "source": [
        "df = pd.read_csv('/gdrive/MyDrive/Face recognition/rez.csv', index_col=[0])\n",
        "\n",
        "df.head()"
      ],
      "execution_count": null,
      "outputs": []
    },
    {
      "cell_type": "code",
      "metadata": {
        "id": "VHTfnn-3yWLH"
      },
      "source": [
        "df.groupby(['dense_l','conv_l']).mean()"
      ],
      "execution_count": null,
      "outputs": []
    },
    {
      "cell_type": "code",
      "metadata": {
        "id": "PRlgJAvPp_r_"
      },
      "source": [
        "# https://www.sigma-is.ru/files/article/art_ab_nic_5_2015.pdf\n",
        "# https://habr.com/ru/post/317798/"
      ],
      "execution_count": null,
      "outputs": []
    },
    {
      "cell_type": "code",
      "metadata": {
        "id": "PCGdfFU_yGyC",
        "colab": {
          "base_uri": "https://localhost:8080/",
          "height": 216
        },
        "outputId": "9f1bfd78-567a-45a9-f943-37751f01da82"
      },
      "source": [
        "im1 = np.abs((df.m0-df.m1)/df.d0).values[1:13].reshape(4,3)\n",
        "im2 = df.mu.values[1:13].reshape(4,3)\n",
        "im2 = df.wc.values[1:13].reshape(4,3)\n",
        "plt.figure(figsize=(5,14))\n",
        "plt.subplot(1,3,1)\n",
        "plt.imshow(im1)\n",
        "plt.xticks(np.arange(3), ['0','1','2','3','4'])\n",
        "plt.yticks(np.arange(5), ['1','2','3','4'])\n",
        "plt.xlabel('dens')\n",
        "plt.ylabel('conv')\n",
        "plt.title('|m0-m1|/std0')\n",
        "plt.subplot(1,3,2)\n",
        "plt.imshow(im2)\n",
        "plt.xticks(np.arange(3), ['0','1','2','3','4'])\n",
        "plt.yticks(np.arange(5), ['1','2','3','4'])\n",
        "plt.xlabel('dens')\n",
        "plt.ylabel('conv')\n",
        "plt.title('p_value \\n MannWithny')\n",
        "plt.subplot(1,3,3)\n",
        "plt.imshow(im2)\n",
        "plt.xticks( np.arange(3), ['0','1','2','3','4'])\n",
        "plt.yticks(np.arange(5), ['1','2','3','4'])\n",
        "plt.xlabel('dens')\n",
        "plt.ylabel('conv')\n",
        "plt.title('p_value  \\n Willcox')\n",
        "plt.show()\n"
      ],
      "execution_count": null,
      "outputs": [
        {
          "output_type": "display_data",
          "data": {
            "image/png": "[encoded data removed]",
            "text/plain": [
              "<Figure size 360x1008 with 3 Axes>"
            ]
          },
          "metadata": {
            "needs_background": "light"
          }
        }
      ]
    },
    {
      "cell_type": "code",
      "metadata": {
        "id": "ORvy4i8WtR7b"
      },
      "source": [
        ""
      ],
      "execution_count": null,
      "outputs": []
    },
    {
      "cell_type": "markdown",
      "metadata": {
        "id": "R_teyZuwInFo"
      },
      "source": [
        "Резюме поиска размера гипотезы 2: \n",
        "  - лучшие значения по отношению расстояние между m1, m0 к отношению с рассеиванием sigma0 : число блоков FC = 2, число блоков Сonv = 1\n",
        "  - по тестам все варианты  кроме [1,1] - рабочие.\n",
        "\n",
        "  Необходимо построить оценку сетей с метриками на отложенной выборке, пока не lfw.\n",
        "\n",
        "  1) Построить механизм предсказания для отложенной выборки\n",
        "\n",
        "  2) Механизм анализа модели(метрики https://habr.com/ru/post/317798/):\n",
        "\n",
        "    - Accuracy = (TP+TN)/(FP+FN+TP+TN)\n",
        "    - ERR \n",
        "    - FAR\n",
        "    - FFR\n"
      ]
    },
    {
      "cell_type": "code",
      "metadata": {
        "colab": {
          "base_uri": "https://localhost:8080/"
        },
        "id": "Cs7GRDpIJm43",
        "outputId": "bc153038-2a77-432d-c4f8-ba91c1b20716"
      },
      "source": [
        "len(gen_d.ll)"
      ],
      "execution_count": null,
      "outputs": [
        {
          "output_type": "execute_result",
          "data": {
            "text/plain": [
              "501196"
            ]
          },
          "metadata": {},
          "execution_count": 19
        }
      ]
    },
    {
      "cell_type": "markdown",
      "metadata": {
        "id": "RPufL-W-B9HE"
      },
      "source": [
        "## **Обучение модели:**\n",
        "\n",
        "- выбраные гиперпараметры: layer = [1,2], EMB_SIZE = 64,пакет на вход модели  100 объектов (выдача генератора)\n",
        "- обучаем на части доступных данных : первые 400000 объектов, валидация после 400000\n",
        "- сдвигаю область текущих примеров для обучения в диапазоне от 1 до 400000 (экономим размер места на диске)\n",
        "- Записываю веса нейронки после  каждой эпохи на диск\n",
        "- Меняю состав тренировочной и валидационной выборки в пределах отделенных для этого данных\n",
        "-фиксирую: статистики, EER,FAR,FRR, Accuracy(на выравниваемой выборке по label)"
      ]
    },
    {
      "cell_type": "code",
      "metadata": {
        "id": "xUeyFDFzaxis"
      },
      "source": [
        "model = net_creat(EMB_SIZE = 64, im_size = (32,32,3),X_size=8, layer = [1,2], numb_neuro=1)\n",
        "image_shape = []\n",
        "image_shape = []\n",
        "numb_bound = []\n",
        "hist = []\n",
        "acc_ = []\n",
        "eer_ = []"
      ],
      "execution_count": null,
      "outputs": []
    },
    {
      "cell_type": "code",
      "metadata": {
        "colab": {
          "base_uri": "https://localhost:8080/"
        },
        "id": "jGElSDUWukIv",
        "outputId": "882383cd-fe09-4066-a6d5-9d826a85c8f5"
      },
      "source": [
        "\n",
        "\n",
        "NUM_EPOCHS = 5\n",
        "plt.figure(figsize = (16,5))\n",
        "loss_func = contastive_loss\n",
        "for ch in range(NUM_EPOCHS):\n",
        "  for i in range(1,10000,100):\n",
        "    ind_i = np.random.randint(0,300000)\n",
        "    I,L = gen_d[ind_i]\n",
        "\n",
        "    model, hist = train_step(model, I,L, hist,loss_func)\n",
        "\n",
        "  model.save_weights('/gdrive/MyDrive/Face recognition/siam_net_rez_.h5')\n",
        "  ind_test = 300000+np.random.randint(0,10000)\n",
        "  I, L, n_emb, l_dist,stats_rez = image_clast_net(image_name='',  model=model,  ind=ind_test,  verbose=1, gen_d = gen_d)\n",
        "  \n",
        "  plt.subplot(1,2,1)\n",
        "  plt.plot(hist )\n",
        "  r_embed = []\n",
        "  for i in range(n_emb.shape[0]):\n",
        "    for j in range(i+1,n_emb.shape[0]-1):\n",
        "      r_embed.append( [n_emb[i,j],l_dist[i,j]]) \n",
        "  #r_embed  =pred_batch(ind_test, model,gen_d)\n",
        "  r_embed = np.array(r_embed)\n",
        "  ind1 = np.where(r_embed[:,1] == 1)[0]\n",
        "  ind0 = np.where(r_embed[:,1] == 0)[0]\n",
        "   \n",
        "  eer,far,frr,dist_, pdist, acc = calc_metrics(r_embed[ind1,0],r_embed[ind0,0])\n",
        "  \n",
        "  plt.subplot(1,2,2)\n",
        "  plt.plot(far,frr, label ='epoch '+str(ch) )\n",
        "  plt.plot(far[pdist],frr[pdist],'ro', label ='eer '+str(ch) )\n",
        "  eer_.append(eer)\n",
        "  acc_.append(acc)\n",
        "plt.subplot(1,2,1)\n",
        "plt.grid(True)\n",
        "plt.xlabel('epoch')\n",
        "plt.ylabel('loss')\n",
        "\n",
        "plt.subplot(1,2,2)\n",
        "plt.grid(True)\n",
        "plt.title(' FAR/FRR ')\n",
        "plt.xlabel('FAR')\n",
        "plt.ylabel('FRR')\n",
        "plt.legend()\n",
        "plt.show()  "
      ],
      "execution_count": null,
      "outputs": [
        {
          "output_type": "stream",
          "name": "stdout",
          "text": [
            "2292.2524\n",
            "581.5946\n"
          ]
        }
      ]
    },
    {
      "cell_type": "code",
      "metadata": {
        "id": "Lv7oNC43RgW1"
      },
      "source": [
        "r_embed = np.array(r_embed)"
      ],
      "execution_count": null,
      "outputs": []
    },
    {
      "cell_type": "code",
      "metadata": {
        "colab": {
          "base_uri": "https://localhost:8080/",
          "height": 298
        },
        "id": "oWZdlxX1XC29",
        "outputId": "636103b8-e987-4d44-a5f5-5ad0e8b7959a"
      },
      "source": [
        "plt.plot(r_embed[:,1],r_embed[:,0],'.')\n",
        "plt.grid(True)\n",
        "plt.legend()\n",
        "plt.title('распределение рaсстояний по типам пар 0/1')\n",
        "plt.show()"
      ],
      "execution_count": null,
      "outputs": [
        {
          "output_type": "stream",
          "name": "stderr",
          "text": [
            "No handles with labels found to put in legend.\n"
          ]
        },
        {
          "output_type": "display_data",
          "data": {
            "image/png": "[encoded data removed]",
            "text/plain": [
              "<Figure size 432x288 with 1 Axes>"
            ]
          },
          "metadata": {
            "needs_background": "light"
          }
        }
      ]
    },
    {
      "cell_type": "code",
      "metadata": {
        "colab": {
          "base_uri": "https://localhost:8080/",
          "height": 282
        },
        "id": "NbsXmFL-aaco",
        "outputId": "c97e24f3-9f53-4e55-8f58-a4ede753a2eb"
      },
      "source": [
        "plt.plot((r_embed[:,0] - r_embed[:,0].min())/(r_embed[:,0].max() - r_embed[:,0].min()))"
      ],
      "execution_count": null,
      "outputs": [
        {
          "output_type": "execute_result",
          "data": {
            "text/plain": [
              "[<matplotlib.lines.Line2D at 0x7f26852b48d0>]"
            ]
          },
          "metadata": {},
          "execution_count": 120
        },
        {
          "output_type": "display_data",
          "data": {
            "image/png": "[encoded data removed]",
            "text/plain": [
              "<Figure size 432x288 with 1 Axes>"
            ]
          },
          "metadata": {
            "needs_background": "light"
          }
        }
      ]
    },
    {
      "cell_type": "code",
      "metadata": {
        "colab": {
          "base_uri": "https://localhost:8080/"
        },
        "id": "knJ0gxohY-zX",
        "outputId": "ab380aff-f66e-493c-e173-af887f2e1544"
      },
      "source": [
        "ind1 = np.where(r_embed[:,1] == 1)[0]\n",
        "ind0 = np.where(r_embed[:,1] == 0)[0]\n",
        "(r_embed[:,0])\n",
        "eer,far,frr,dist_ = calc_metrics(r_embed[ind1,0],r_embed[ind0,0])"
      ],
      "execution_count": null,
      "outputs": [
        {
          "output_type": "stream",
          "name": "stdout",
          "text": [
            "0.0 1.0\n"
          ]
        }
      ]
    },
    {
      "cell_type": "code",
      "metadata": {
        "colab": {
          "base_uri": "https://localhost:8080/",
          "height": 282
        },
        "id": "4EC1wq_KZX2Z",
        "outputId": "ff1137cb-904a-4842-da30-c96bb30a1114"
      },
      "source": [
        "plt.plot(far,frr)"
      ],
      "execution_count": null,
      "outputs": [
        {
          "output_type": "execute_result",
          "data": {
            "text/plain": [
              "[<matplotlib.lines.Line2D at 0x7f26851881d0>]"
            ]
          },
          "metadata": {},
          "execution_count": 124
        },
        {
          "output_type": "display_data",
          "data": {
            "image/png": "[encoded data removed]",
            "text/plain": [
              "<Figure size 432x288 with 1 Axes>"
            ]
          },
          "metadata": {
            "needs_background": "light"
          }
        }
      ]
    },
    {
      "cell_type": "code",
      "metadata": {
        "colab": {
          "base_uri": "https://localhost:8080/"
        },
        "id": "mgGiZ-vVZdUh",
        "outputId": "a97167f0-09c5-48ea-cd90-3800fd9060da"
      },
      "source": [
        "eer"
      ],
      "execution_count": null,
      "outputs": [
        {
          "output_type": "execute_result",
          "data": {
            "text/plain": [
              "0.76"
            ]
          },
          "metadata": {},
          "execution_count": 125
        }
      ]
    },
    {
      "cell_type": "code",
      "metadata": {
        "id": "ofDDaL3Fbw3x"
      },
      "source": [
        ""
      ],
      "execution_count": null,
      "outputs": []
    }
  ]
}