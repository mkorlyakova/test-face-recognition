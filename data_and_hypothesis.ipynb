{
  "nbformat": 4,
  "nbformat_minor": 0,
  "metadata": {
    "colab": {
      "name": "data_and_hypothesis.ipynb",
      "provenance": [],
      "authorship_tag": "ABX9TyOsxLULrXoOi6eK/kX7jexR",
      "include_colab_link": true
    },
    "kernelspec": {
      "name": "python3",
      "display_name": "Python 3"
    },
    "language_info": {
      "name": "python"
    }
  },
  "cells": [
    {
      "cell_type": "markdown",
      "metadata": {
        "id": "view-in-github",
        "colab_type": "text"
      },
      "source": [
        "<a href=\"https://colab.research.google.com/github/mkorlyakova/test-face-recognition/blob/main/data_and_hypothesis.ipynb\" target=\"_parent\"><img src=\"https://colab.research.google.com/assets/colab-badge.svg\" alt=\"Open In Colab\"/></a>"
      ]
    },
    {
      "cell_type": "markdown",
      "metadata": {
        "id": "54lg90_EKgFZ"
      },
      "source": [
        "Импорт библиотек"
      ]
    },
    {
      "cell_type": "code",
      "metadata": {
        "id": "7UVXT71SkNQb"
      },
      "source": [
        "import os\n",
        "\n",
        "import matplotlib.pyplot as plt\n",
        "import numpy as np\n",
        "\n",
        "import cv2 as cv\n"
      ],
      "execution_count": null,
      "outputs": []
    },
    {
      "cell_type": "markdown",
      "metadata": {
        "id": "TuDetppNKpuq"
      },
      "source": [
        "Подключение диска с данными:"
      ]
    },
    {
      "cell_type": "code",
      "metadata": {
        "colab": {
          "base_uri": "https://localhost:8080/"
        },
        "id": "pTQVOy-oYuIR",
        "outputId": "a70a59d7-8354-4dac-b8cf-36a31cbc05c1"
      },
      "source": [
        "from google.colab import drive\n",
        "drive.mount('/gdrive')\n"
      ],
      "execution_count": null,
      "outputs": [
        {
          "output_type": "stream",
          "name": "stdout",
          "text": [
            "Mounted at /gdrive\n"
          ]
        }
      ]
    },
    {
      "cell_type": "markdown",
      "metadata": {
        "id": "FqwkzgZWK4DE"
      },
      "source": [
        "Открываем архив для обучения"
      ]
    },
    {
      "cell_type": "code",
      "metadata": {
        "id": "02KZ6Fm0X6DA"
      },
      "source": [
        "# Посмотреть на данные\n",
        "import tarfile\n",
        "zipfile = '/gdrive/MyDrive/Face recognition/casia_faces.tar.gz'\n",
        "if zipfile.endswith(\"tar.gz\"):\n",
        "    tar = tarfile.open(zipfile, \"r:gz\")\n",
        "elif zipfile.endswith(\"tar\"):\n",
        "    tar = tarfile.open(zipfile, \"r:\")\n",
        "ll = tar.getmembers( )\n",
        "tar.extractall( '.',ll[:1000] )    \n",
        "#tar.extractall(  )\n",
        "tar.close()\n",
        "\n"
      ],
      "execution_count": null,
      "outputs": []
    },
    {
      "cell_type": "markdown",
      "metadata": {
        "id": "4bCiLg0DK7ik"
      },
      "source": [
        "**Результат анализа**: 5 * 10^5 объектов - файлы и каталоги, 5 * 10^4 человек в архиве\n",
        "\n",
        "\n",
        "Один элемент архива:"
      ]
    },
    {
      "cell_type": "code",
      "metadata": {
        "colab": {
          "base_uri": "https://localhost:8080/"
        },
        "id": "rRABNUosoOYT",
        "outputId": "1d1bf086-c6fd-4806-d4da-3956edee11df"
      },
      "source": [
        "ll[104]"
      ],
      "execution_count": null,
      "outputs": [
        {
          "output_type": "execute_result",
          "data": {
            "text/plain": [
              "<TarInfo 'casia_faces/person_1454' at 0x7f0ac41d3870>"
            ]
          },
          "metadata": {},
          "execution_count": 22
        }
      ]
    },
    {
      "cell_type": "code",
      "metadata": {
        "colab": {
          "base_uri": "https://localhost:8080/"
        },
        "id": "Zem89Pueqrfz",
        "outputId": "c4600877-2072-44bc-d443-83efd1fc0dbf"
      },
      "source": [
        "   ll[105].split('/') # список частей имени объекта   "
      ],
      "execution_count": null,
      "outputs": [
        {
          "output_type": "stream",
          "name": "stdout",
          "text": [
            "['casia_faces', 'person_1454', '4673c8f7-203e-4c3a-8f4e-bac3721c79f3.jpg']\n",
            "person_1454\n",
            "0\n",
            "1454\n"
          ]
        },
        {
          "output_type": "execute_result",
          "data": {
            "text/plain": [
              "1454"
            ]
          },
          "metadata": {},
          "execution_count": 31
        }
      ]
    },
    {
      "cell_type": "code",
      "metadata": {
        "id": "qT5JPtQllw6v"
      },
      "source": [
        "image = []\n",
        "label = []\n",
        "path_train = '/content/casia_faces/'\n",
        "dir_list = os.listdir(path_train)\n",
        "m = 0\n",
        "for name in dir_list:\n",
        "  folder_list = os.listdir(path_train+name+'/')\n",
        "  print(folder_list)\n",
        "  z = []\n",
        "  \n",
        "  if len(folder_list)>0:\n",
        "    plt.figure(figsize = (len(folder_list)*3,3))\n",
        "    for i,k in enumerate(folder_list):\n",
        "      plt.subplot(1,len(folder_list),i+1)\n",
        "      img = cv.imread(path_train+name+'/'+k,   )\n",
        "      z.append(img.shape[:2])\n",
        "      img = cv.resize(img,(32,32))\n",
        "      imgl = cv.cvtColor(img, cv.COLOR_RGB2GRAY)\n",
        "      img = cv.cvtColor(img, cv.COLOR_RGB2BGR)\n",
        "      plt.imshow(img)\n",
        "      image.append(imgl.reshape(-1,32,32,1))\n",
        "      label.append(m)\n",
        "    plt.show()\n",
        "    m += 1\n",
        "    print(z)"
      ],
      "execution_count": null,
      "outputs": []
    },
    {
      "cell_type": "markdown",
      "metadata": {
        "id": "RfscISa6LuBj"
      },
      "source": [
        "Число объектов в данных: m"
      ]
    },
    {
      "cell_type": "code",
      "metadata": {
        "colab": {
          "base_uri": "https://localhost:8080/"
        },
        "id": "1Gpeq_iOkeCn",
        "outputId": "09feab45-e854-4222-814f-74da5acb00f3"
      },
      "source": [
        "m"
      ],
      "execution_count": null,
      "outputs": [
        {
          "output_type": "execute_result",
          "data": {
            "text/plain": [
              "17"
            ]
          },
          "metadata": {},
          "execution_count": 10
        }
      ]
    },
    {
      "cell_type": "code",
      "metadata": {
        "id": "sbcgY09KiTkg"
      },
      "source": [
        "image  = np.array(image)\n",
        "label = np.array(label)"
      ],
      "execution_count": null,
      "outputs": []
    },
    {
      "cell_type": "markdown",
      "metadata": {
        "id": "WzGb-mTnYf4T"
      },
      "source": [
        "результат:\n",
        " размер у всех: 112х112 (проверить)\n",
        "\n",
        " формат хранения rgb\n",
        "\n",
        " штук разное число по объекту\n",
        "\n"
      ]
    },
    {
      "cell_type": "markdown",
      "metadata": {
        "id": "N_vq4QsjCKNp"
      },
      "source": [
        "Не беру классификатор как есть : много класоов (не так, чтоб много примеров на класс)\n",
        " \n",
        "Гипотезы:\n",
        "\n",
        "1. случайная проекция \n",
        "2. metric lening\n",
        "3. перейти в Lab (брать слой L)"
      ]
    },
    {
      "cell_type": "code",
      "metadata": {
        "id": "wr_SUI9z6SMl"
      },
      "source": [
        ""
      ],
      "execution_count": null,
      "outputs": []
    }
  ]
}