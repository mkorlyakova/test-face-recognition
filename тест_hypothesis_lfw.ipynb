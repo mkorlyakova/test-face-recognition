{
  "nbformat": 4,
  "nbformat_minor": 0,
  "metadata": {
    "colab": {
      "name": "тест_hypothesis_lfw.ipynb",
      "provenance": [],
      "collapsed_sections": [],
      "authorship_tag": "ABX9TyMQfsLiRugsW2+HhgqCj+qH",
      "include_colab_link": true
    },
    "kernelspec": {
      "display_name": "Python 3",
      "name": "python3"
    },
    "language_info": {
      "name": "python"
    },
    "accelerator": "GPU"
  },
  "cells": [
    {
      "cell_type": "markdown",
      "metadata": {
        "id": "view-in-github",
        "colab_type": "text"
      },
      "source": [
        "<a href=\"https://colab.research.google.com/github/mkorlyakova/test-face-recognition/blob/main/%D1%82%D0%B5%D1%81%D1%82_hypothesis_lfw.ipynb\" target=\"_parent\"><img src=\"https://colab.research.google.com/assets/colab-badge.svg\" alt=\"Open In Colab\"/></a>"
      ]
    },
    {
      "cell_type": "markdown",
      "metadata": {
        "id": "T0NfizKvC61K"
      },
      "source": [
        "**Импорт рабочих библиотек**"
      ]
    },
    {
      "cell_type": "code",
      "metadata": {
        "id": "7UVXT71SkNQb"
      },
      "source": [
        "import os\n",
        "\n",
        "import matplotlib.pyplot as plt\n",
        "import numpy as np\n",
        "import pandas as pd\n",
        "\n",
        "import cv2 as cv\n",
        "import tarfile\n"
      ],
      "execution_count": null,
      "outputs": []
    },
    {
      "cell_type": "code",
      "metadata": {
        "id": "MAiooouKQFkI"
      },
      "source": [
        "from scipy.stats import mannwhitneyu\n",
        "from scipy.stats import wilcoxon\n",
        "import scipy.stats as st\n"
      ],
      "execution_count": null,
      "outputs": []
    },
    {
      "cell_type": "code",
      "metadata": {
        "id": "0tRxo8SFLLju"
      },
      "source": [
        "import seaborn as sns"
      ],
      "execution_count": null,
      "outputs": []
    },
    {
      "cell_type": "markdown",
      "metadata": {
        "id": "p1oV1zJwDA9Z"
      },
      "source": [
        "Подключение к диску с данными"
      ]
    },
    {
      "cell_type": "markdown",
      "metadata": {
        "id": "u1DMFErADfbf"
      },
      "source": [
        ""
      ]
    },
    {
      "cell_type": "code",
      "metadata": {
        "id": "mjCl308ifZZX"
      },
      "source": [
        "import tensorflow as tf\n",
        "import tensorflow.keras as keras\n",
        "from tensorflow.keras.utils import Sequence"
      ],
      "execution_count": null,
      "outputs": []
    },
    {
      "cell_type": "code",
      "metadata": {
        "colab": {
          "base_uri": "https://localhost:8080/"
        },
        "id": "pTQVOy-oYuIR",
        "outputId": "8d15c394-a360-4190-fb02-3a0e98917ab8"
      },
      "source": [
        "from google.colab import drive\n",
        "drive.mount('/gdrive')\n"
      ],
      "execution_count": null,
      "outputs": [
        {
          "output_type": "stream",
          "name": "stdout",
          "text": [
            "Mounted at /gdrive\n"
          ]
        }
      ]
    },
    {
      "cell_type": "code",
      "metadata": {
        "id": "TyW4hkVSrMZq"
      },
      "source": [
        ""
      ],
      "execution_count": null,
      "outputs": []
    },
    {
      "cell_type": "markdown",
      "metadata": {
        "id": "B2AdklrTrM8s"
      },
      "source": [
        "Метрики:"
      ]
    },
    {
      "cell_type": "code",
      "metadata": {
        "id": "egzssurcWUD_"
      },
      "source": [
        "# https://habr.com/ru/post/317798/\n",
        "\n",
        "def calc_metrics(targets_scores, imposter_scores):\n",
        "    \"\"\"\n",
        "    targets_scores - значения выхода модели через метрику для пар, \n",
        "    imposter_scores - значения выхода модели через метрику для не пар,\n",
        "    \"\"\"\n",
        "    # диапазоны\n",
        "    min_score = np.minimum(np.min(targets_scores), np.min(imposter_scores))\n",
        "    max_score = np.maximum(np.max(targets_scores), np.max(imposter_scores))\n",
        "    print(min_score,max_score)\n",
        "    n_tars = len(targets_scores)\n",
        "    n_imps = len(imposter_scores)\n",
        "\n",
        "    N = 100\n",
        "\n",
        "    fars = np.zeros((N,))\n",
        "    frrs = np.zeros((N,))\n",
        "    dists = np.zeros((N,))\n",
        "\n",
        "    mink = float('inf')\n",
        "    eer = 0\n",
        "    min_i = 0\n",
        "    # поиск оптимальной точки\n",
        "    for i, dist in enumerate(np.linspace(min_score, max_score, N)):\n",
        "        far = len(np.where(imposter_scores > dist)[0]) / n_imps\n",
        "        frr = len(np.where(targets_scores < dist)[0]) / n_tars\n",
        "        # добавили оценки по этому порогу для dist\n",
        "        fars[i] = far\n",
        "        frrs[i] = frr\n",
        "        dists[i] = dist\n",
        "\n",
        "        k = np.abs(far - frr)\n",
        "\n",
        "        if k < mink:\n",
        "            mink = k\n",
        "            min_i = i\n",
        "            eer = (far + frr) / 2\n",
        "    # accuracy\n",
        "\n",
        "    if n_tars>n_imps:\n",
        "      nn = n_imps\n",
        "    else:\n",
        "      nn = n_tars\n",
        "    TN = np.sum(imposter_scores[:nn] > dists[min_i]) \n",
        "    TP = np.sum(targets_scores[:nn] < dists[min_i])\n",
        "    acc = (TP+TN)/(nn*2)\n",
        "\n",
        "\n",
        "    return eer, fars, frrs, dists, min_i, acc\n",
        "\n",
        "# вычисление метрики для вложеня (Euqlid)\n",
        "def diff(e1, e2):\n",
        "    return np.sum((e1 - e2)**2) ** 0.5\n",
        "# cos\n",
        "def diffc(e1, e2):\n",
        "    return 1 - np.sum((e1 * e2))/np.sum( (e1**2)) ** 0.5/np.sum( (e2**2)) ** 0.5\n",
        "\n",
        "# метрики по эмбедингу (вложению)\n",
        "def my_embed_metric(X,L):\n",
        "  net_dist = np.ones((X.shape[0],X.shape[0])) # нормированное расстояние - инициализация 1(пока)\n",
        "  label_dist = np.ones((X.shape[0],X.shape[0])) # нормированное расстояние - инициализация 1(пока)\n",
        "  for i in range(X.shape[0]-1):\n",
        "    for j in range(i+1,X.shape[0]):\n",
        "      net_dist[i,j] = diff( X[i,:],X[j,:])\n",
        "      net_dist[j,i] =  net_dist[i,j]\n",
        "      label_dist[i,j] = int(L[i] == L[j])\n",
        "      label_dist[j,i] =  label_dist[i,j]\n",
        "\n",
        "\n",
        "def image_clast_net(n_emb,l_dist,    verbose=1):\n",
        "  '''\n",
        "  полный цикл  анализа\n",
        "  вход:\n",
        "    n_emb, - расстояния\n",
        "    l_dist, - метки\n",
        "  \n",
        "  гиперпараметры алгоритма:\n",
        "\n",
        ",  \n",
        "  \n",
        "  verbose = 1 - визуализировать результат (0 - не визуализировать)\n",
        "\n",
        "\n",
        "  \n",
        "  ''' \n",
        "\n",
        "  # строим метрики\n",
        "  if 1:\n",
        "\n",
        "      # анализ \n",
        "      # делим по меткам пар на похожие и нет пары \n",
        "      Dist1 = []\n",
        "      Dist0 = []\n",
        "      for i in range(n_emb.shape[0]):\n",
        "          if l_dist[i] :\n",
        "            Dist1.append(n_emb[i])\n",
        "          else:\n",
        "            Dist0.append(n_emb[i])  \n",
        "      if verbose:\n",
        "        plt.figure(figsize = (16,5))\n",
        "        plt.subplot(1,2,1)\n",
        "        plt.hist(Dist0,alpha = 0.5,bins = 100, label = 'labeli!=labelj : 0')\n",
        "        plt.hist(Dist1,alpha = 0.5,bins = 100, label = 'labeli==labelj : 1')\n",
        "        plt.legend()\n",
        "      \n",
        "        plt.grid(True)\n",
        "        plt.title('распределение рaсстояний по типам пар')\n",
        "        plt.subplot(1,2,2)\n",
        "        sns.kdeplot(Dist0,)\n",
        "        sns.kdeplot(Dist1)\n",
        "        plt.grid(True)\n",
        "        plt.legend()\n",
        "        plt.title('распределение рaсстояний по типам пар')\n",
        "        plt.show()\n",
        "      # среднее по выборке расстояние\n",
        "      m0 = np.mean(Dist0)\n",
        "      m1 = np.mean(Dist1)\n",
        "      print('средняя дистанция по 0:',m0)\n",
        "      print('средняя дистанция по 1:',m1)\n",
        "      # std по выборкам\n",
        "      d0 = np.std(Dist0)\n",
        "      d1 = np.std(Dist1)\n",
        "      # проверим сходство непараметрическими тестами\n",
        "      L1 = len(Dist1)\n",
        "      L0 = len(Dist0)\n",
        "      if L1>L0:\n",
        "        L_d01 = L0\n",
        "      else:\n",
        "        L_d01 = L1  \n",
        "      print('std по 0:',d0)\n",
        "      print('std по 1:',d1)\n",
        "      conf_int0 = st.t.interval(0.99, len(Dist0)-1, loc=np.mean(Dist0), scale=st.sem(Dist0))\n",
        "      conf_int1 = st.t.interval(0.99, len(Dist1)-1, loc=np.mean(Dist1), scale=st.sem(Dist1))\n",
        "      print('доверит.интервал 0',conf_int0)\n",
        "      print('доверит.интервал 1',conf_int1)\n",
        "      print('интервал 3 sigms 0',[m0-d0*3,m0+d0*3])\n",
        "      print('интервал 3 sigma 1',[m1-d1*3,m1+d1*3])\n",
        "      if verbose:\n",
        "        plt.plot([0,0,0],[conf_int0[0],m0,conf_int0[1]],'-og', label='0')\n",
        "        plt.plot([1,1,1],[conf_int1[0],m1,conf_int1[1]], '-ok',label='1')\n",
        "        plt.plot([0,0,0],[m0-d0,m0,m0+d0],'--xb', label='+-sigma 0')\n",
        "        plt.plot([1,1,1],[m1-d1,m1,m1+d1], '--xr',label='+-sigma 1')\n",
        "        plt.legend()\n",
        "        plt.title('доверит.интервал по типам пар и +-sig')\n",
        "        plt.show()\n",
        "      wc = wilcoxon(Dist1[:L_d01],Dist0[:L_d01])[1]\n",
        "      mu = mannwhitneyu(Dist1,Dist0)[1]\n",
        "      print('тест Мана-Уитни p_value:', mu)\n",
        "      print('тест Вилкокса p_value:', wc)\n",
        "      stat_rez = [m0,m1,d0,d1,conf_int0[0],conf_int0[1],conf_int1[0],conf_int1[1],mu,wc,m0-d0*3,m0+d0*3,m1-d1*3,m1+d1*3]\n",
        "      \n",
        "      eer, fars, frrs, dists, min_i, acc = calc_metrics(Dist1,Dist0)\n",
        "      plt.plot(fars,frrs)\n",
        "      plt.plot(fars[min_i],frrs[min_i],'or')\n",
        "      plt.grid(True)\n",
        "      plt.legend()\n",
        "      plt.title('FAR/FRR')\n",
        "      plt.xlabel('FAR')\n",
        "      plt.ylabel('FRR')\n",
        "      plt.show()\n",
        "\n",
        "  return  stat_rez, eer,acc"
      ],
      "execution_count": null,
      "outputs": []
    },
    {
      "cell_type": "markdown",
      "metadata": {
        "id": "DWEk4vlgpwM_"
      },
      "source": [
        "Загрузить модели:"
      ]
    },
    {
      "cell_type": "code",
      "metadata": {
        "id": "XThqt4eZaKqB"
      },
      "source": [
        "path_c = '/gdrive/MyDrive/Face recognition/'"
      ],
      "execution_count": null,
      "outputs": []
    },
    {
      "cell_type": "markdown",
      "metadata": {
        "id": "OuENfQi6Wl5Z"
      },
      "source": [
        "## *Гипотеза 1 тест:*"
      ]
    },
    {
      "cell_type": "markdown",
      "metadata": {
        "id": "s4rvbbATbaGB"
      },
      "source": [
        "Схема сети для эмбединга: \n",
        "\n",
        " - layer[0] сверточных блоков (С-С-MP)\n",
        " - layer[1] полносвязных блоков (FC-Drop)"
      ]
    },
    {
      "cell_type": "code",
      "metadata": {
        "id": "jRPCTjiwXWoE"
      },
      "source": [
        "rand_project1 = keras.models.Sequential([keras.layers.Conv3D(64,3,1,padding='same',activation='relu', input_shape = (1,32,32,1)),\n",
        "                                        \n",
        "                                        keras.layers.Embedding(32*32*64,64,input_length=1),\n",
        "                                        keras.layers.Flatten(), \n",
        "                                        keras.layers.Dense(32),keras.layers.Dense(25),keras.layers.Softmax( )])\n",
        "rand_project1.compile(loss = keras.losses.CategoricalCrossentropy(from_logits=False),metrics =['accuracy'])\n",
        "mod1 = keras.models.Model(rand_project1.inputs,rand_project1.layers[-3].output)\n",
        "\n",
        "mod1.load_weights(path_c+'LRP_net.h5')"
      ],
      "execution_count": null,
      "outputs": []
    },
    {
      "cell_type": "code",
      "metadata": {
        "id": "YWx9WiNcXnHQ"
      },
      "source": [
        "def rand_class(levels_c = [64,32,32],level_d = [32,25] ):\n",
        "  \"\"\"\n",
        "  передаем список числа фильтров в свертках -levels_c\n",
        "  передаем список числа нейронов в плотных слоях -levels_d \n",
        "  \"\"\"\n",
        "  rand_project = keras.models.Sequential([keras.layers.Conv3D(levels_c[0],3,1,padding='same',activation='relu', input_shape = (1,32,32,1))])\n",
        "  for i in levels_c[1:]:\n",
        "    rand_project.add(keras.layers.Conv2D(i,3,1,padding='same',activation='relu'))\n",
        "    rand_project.add(keras.layers.Conv2D(i,3,2,padding='same',activation='relu'))\n",
        "  rand_project.add(keras.layers.Flatten())\n",
        "  for i in level_d:\n",
        "    rand_project.add(keras.layers.Dense(i))\n",
        "    \n",
        "  rand_project.add(keras.layers.Dense(level_d[1],activation='sigmoid'))\n",
        "  rand_project.add(keras.layers.Dense(level_d[1]))\n",
        "  rand_project.add(keras.layers.Softmax( ))\n",
        "  \n",
        "  rand_project.compile(loss = keras.losses.CategoricalCrossentropy(from_logits=False),metrics =['accuracy'])\n",
        "  # Свертки не обучаем\n",
        "  for i in range(3):\n",
        "    rand_project.layers[i].trainable = False\n",
        "\n",
        "  return rand_project\n",
        "\n",
        "\n",
        "conv = [16,8,16,16]\n",
        "den = [128,30]\n",
        "rand_project2 = rand_class(levels_c = conv,level_d = den )\n",
        "rand_project2.load_weights(path_c+'rand_net_.h5')\n",
        "\n",
        "mod2 = keras.models.Model(rand_project2.inputs,rand_project2.layers[-3].output)"
      ],
      "execution_count": null,
      "outputs": []
    },
    {
      "cell_type": "markdown",
      "metadata": {
        "id": "WzGb-mTnYf4T"
      },
      "source": [
        "## *Гипотеза* 2 тест: \n",
        "  **metric lening**\n",
        "\n",
        "###  Реализация:\n",
        " - проводим массивный тест:     \n",
        " - анализ результат (метрики): accuracy, EER, FAR,FRR\n",
        "\n",
        "\n",
        "\n"
      ]
    },
    {
      "cell_type": "code",
      "metadata": {
        "id": "axNdmetgK2Qk"
      },
      "source": [
        "NUM_EPOCHS =5 # число эпох \n",
        "NUM_BATCH = 40 # число пакетов\n",
        "\n",
        "LEARNING_RATE = 0.001 # скорость обучения\n",
        "\n",
        "# оптимизатор\n",
        "optimizer = tf.keras.optimizers.Adam(LEARNING_RATE)\n",
        "# зазор\n",
        "MARGIN = 100.0"
      ],
      "execution_count": null,
      "outputs": []
    },
    {
      "cell_type": "code",
      "metadata": {
        "id": "Ah_UXPCisamc"
      },
      "source": [
        "# Custom model Class\n",
        "# делаем обучение по SiamNet\n",
        "\n",
        "class CustomModel(tf.keras.Model):\n",
        "    def calc_metrics(self, targets_scores, imposter_scores):\n",
        "      \"\"\"\n",
        "          \n",
        "      targets_scores - значения выхода модели через метрику для пар, \n",
        "      imposter_scores - значения выхода модели через метрику для не пар,\n",
        "    \n",
        "      \n",
        "      \"\"\"\n",
        "      # диапазоны\n",
        "\n",
        "      min_score = np.minimum(np.min(targets_scores), np.min(imposter_scores))\n",
        "      max_score = np.maximum(np.max(targets_scores), np.max(imposter_scores))\n",
        "      print(min_score,max_score)\n",
        "      n_tars = len(targets_scores)\n",
        "      n_imps = len(imposter_scores)\n",
        "      # число точек\n",
        "      N = 100\n",
        "      # создаем метрики\n",
        "      fars = np.zeros((N,))\n",
        "      frrs = np.zeros((N,))\n",
        "      dists = np.zeros((N,))\n",
        "\n",
        "      mink = float('inf')\n",
        "      eer = 0\n",
        "      min_i = 0\n",
        "      # поиск оптимальной точки\n",
        "      for i, dist in enumerate(np.linspace(min_score, max_score, N)):\n",
        "        far = len(np.where(imposter_scores > dist)[0]) / n_imps\n",
        "        frr = len(np.where(targets_scores < dist)[0]) / n_tars\n",
        "        # добавили оценки по этому порогу для dist\n",
        "        fars[i] = far\n",
        "        frrs[i] = frr\n",
        "        dists[i] = dist\n",
        "\n",
        "        k = np.abs(far - frr)\n",
        "\n",
        "        if k < mink:\n",
        "          mink = k\n",
        "          min_i = i\n",
        "          eer = (far + frr) / 2\n",
        "      \n",
        "      # accuracy\n",
        "\n",
        "      if n_tars>n_imps:\n",
        "        nn = n_imps\n",
        "      else:\n",
        "        nn = n_tars\n",
        "      TN = np.sum(imposter_scores[:nn] > dists[min_i]) \n",
        "      TP = np.sum(targets_scores[:nn] < dists[min_i])\n",
        "      acc = (TP+TN)/(nn*2)\n",
        "\n",
        "\n",
        "      return eer, fars, frrs, dists, min_i, acc\n",
        "    \n",
        "    # Функция потерь Contrastiv \n",
        "    def contastive_loss(self,embs, labels):\n",
        "      #print(embs.shape,labels.shape)\n",
        "      bs = embs.shape[0]\n",
        "      embs1 = embs[:bs//2, :]\n",
        "      embs2 = embs[bs//2:, :]\n",
        "  \n",
        "      labels1 = labels[:bs//2]\n",
        "      labels2 = labels[bs//2:]\n",
        "      #print(labels1,labels2)\n",
        "      d2 = tf.reduce_sum(tf.square(embs1 - embs2), axis=1)\n",
        "      d =  tf.sqrt(d2)\n",
        "      z = tf.cast(labels1 == labels2, tf.float32)\n",
        "      #print(z.dtype,d.dtype, d2.dtype)\n",
        "      MARGIN = 100.0\n",
        "      return tf.reduce_mean(z * d2 + (1-z) * tf.maximum(0.0, MARGIN - d)**2)\n",
        "\n",
        "    # https://www.pyimagesearch.com/2021/01/18/contrastive-loss-for-siamese-networks-with-keras-and-tensorflow/\n",
        "    # Функция потерь - родной из tf как-то неправильно обработал мой тензор - делаю свою\n",
        "    def loss_cos(self,embs, labels):\n",
        "      # print(embs,labels)\n",
        "      bs = embs.shape[0]\n",
        "      embs1 = embs[:bs//2, :]\n",
        "      embs2 = embs[bs//2:, :]\n",
        "      #print(embs1,embs2)\n",
        "      labels1 = labels[:bs//2]\n",
        "      labels2 = labels[bs//2:]\n",
        "      #print(labels1,labels2)\n",
        " \n",
        "      d2 =tf.reduce_sum(embs1 * embs2, axis =-1 )/tf.reduce_sum( embs1 ** 2, axis = -1) / tf.reduse_sum( embs2 ** 2, axis = -1)\n",
        "      #print(d2.shape)\n",
        "      d =  tf.abs(d2 - 1)\n",
        "      z = tf.cast(labels1 == labels2, tf.float64)\n",
        "      print(z.dtype(),d.dtype)\n",
        "      return tf.reduce_mean(z * d + (1-z)*(d2))   \n",
        "    #  Для получения оценок L2  \n",
        "    def my_embed_metric(self, X,L):\n",
        "      \n",
        "      net_dist = tf.ones( (X.shape[0],X.shape[0]),dtype=tf.float32) # нормированное расстояние - инициализация 1(пока)\n",
        "      label_dist = tf.ones((X.shape[0],X.shape[0]),dtype=tf.int8) # нормированное расстояние - инициализация 1(пока)\n",
        "      for i in range(X.shape[0]-1):\n",
        "        for j in range(i+1,X.shape[0]):\n",
        "          net_dist[i,j] = tf.reduce_sum( tf.square(tf.cast(X.numpy()[i:i+1,:],dtype = tf.float32)- tf,cast(X.numpy()[j:j+1,:],dtype = tf.float32)), axis=-1)( )\n",
        "          net_dist[j,i] =  net_dist[i,j]\n",
        "          label_dist[i,j] = tf.cast(L[i] == L[j],dtype=tf.int8)\n",
        "          label_dist[j,i] =  label_dist[i,j]\n",
        "      return net_dist, label_dist      \n",
        "    \n",
        "    #Шаг обучения нейронки\n",
        "    def train_step(self, data):\n",
        "        # получить данные из data\n",
        "        # oделаем прямой проход\n",
        "        image, label = data\n",
        "        #print(image.shape)      \n",
        "        with tf.GradientTape() as tape:\n",
        "            y_pred = self(image, training=True)  # Forward pass\n",
        "            #print(y_pred.shape)\n",
        "            # строим потери\n",
        "            loss = self.contastive_loss(y_pred, label)\n",
        "\n",
        "        # строим Градиент\n",
        "        trainable_vars = self.trainable_variables\n",
        "        gradients = tape.gradient(loss, trainable_vars)\n",
        "        # адаптация\n",
        "        self.optimizer.apply_gradients(zip(gradients, trainable_vars))\n",
        "        # метрика\n",
        "        '''\n",
        "        \n",
        "        y_pred = self(image, training=True)\n",
        "        print(y_pred.shape,y_pred[:2,:5])\n",
        "        n_d,n_l = my_embed_metric( y_pred.numpy(),label.numpy())\n",
        "        ind1 = tf.where(n_l == 1)\n",
        "        ind0 = tf.where( n_l == 0)\n",
        "        print(ind1.shape)\n",
        "        targets_scores = n_d[ind1,:]\n",
        "        imposter_scores = n_d[ind0,:]\n",
        "        eer, fars, frrs, dists, min_i, acc = self.calc_metrics(targets_scores, imposter_scores)\n",
        "        '''\n",
        " \n",
        "        #self.compiled_metrics.update_state(y, y_pred)\n",
        "        # Return a dict mapping metric names to current value\n",
        "        return {'dist':loss}"
      ],
      "execution_count": null,
      "outputs": []
    },
    {
      "cell_type": "code",
      "metadata": {
        "id": "nqNXhkOnsaoa"
      },
      "source": [
        "def net_creat_c(EMB_SIZE = 64, im_size = (32,32,1),X_size = 8, layer = [5,3], numb_neuro = 1, loss = 'mse', opt = 'Adam', metrics = ['accuracy']):\n",
        "  # поток I\n",
        "  inp_x_im = tf.keras.layers.Input(shape=(im_size[0], im_size[1], im_size[2]))\n",
        "  \n",
        "  x1 = tf.keras.layers.Conv2D(32*numb_neuro, (3, 3), padding='same', activation='relu')(inp_x_im)\n",
        "  for k in range(layer[0]):\n",
        "    x2 = x1\n",
        "    x1 = tf.keras.layers.Conv2D(64*numb_neuro, (3, 3), padding='same', activation='relu')(x1)\n",
        "    x1 = tf.keras.layers.Conv2D(64*numb_neuro, (3, 3), padding='same', activation='relu')(x1)\n",
        "    x1  = tf.keras.layers.concatenate([x1,x2])\n",
        "    x1 = tf.keras.layers.MaxPool2D((2, 2), (2, 2))(x1)\n",
        "    \n",
        "  x1 = tf.keras.layers.Flatten()(x1)\n",
        "  # поток Х \n",
        "  x = tf.keras.layers.Dense(256, activation='relu')(x1)\n",
        "  x = tf.keras.layers.Dropout(0.5)(x)\n",
        "  for k in range(layer[1]):\n",
        "    x = tf.keras.layers.Dense(EMB_SIZE*numb_neuro, activation='relu')(x)\n",
        "    x = tf.keras.layers.Dropout(0.5)(x)\n",
        "  # Выход эмбединга  \n",
        "  x = tf.keras.layers.Dense(EMB_SIZE, activation=None)(x)\n",
        "\n",
        "\n",
        "  model = CustomModel( inputs =inp_x_im, outputs = x)\n",
        "  model.compile(optimizer=opt,loss=loss,metrics=metrics)\n",
        "  return model"
      ],
      "execution_count": null,
      "outputs": []
    },
    {
      "cell_type": "code",
      "metadata": {
        "id": "jw5rW2CAH_lN"
      },
      "source": [
        ""
      ],
      "execution_count": null,
      "outputs": []
    },
    {
      "cell_type": "code",
      "metadata": {
        "id": "L5VFo59vsuVt"
      },
      "source": [
        "mod3 = net_creat_c(EMB_SIZE = 64, im_size = (32,32,1),X_size = 8,  layer = [1,2], numb_neuro=1)\n",
        "mod3.load_weights(path_c+'siam_net_rez_.h5')"
      ],
      "execution_count": null,
      "outputs": []
    },
    {
      "cell_type": "markdown",
      "metadata": {
        "id": "FPvByc44W70c"
      },
      "source": [
        "# Реализация теста:\n",
        "проводим массивный тест: LFW\n",
        "\n",
        "анализ результат (метрики): \n",
        "  - accuracy, \n",
        "  - EER, \n",
        "  - FAR,FRR"
      ]
    },
    {
      "cell_type": "markdown",
      "metadata": {
        "id": "GeAJ6RtQHNK3"
      },
      "source": [
        "Запуск : \n",
        "  - читаем каталог примеров на диск\n",
        "  - задаем размер картинок"
      ]
    },
    {
      "cell_type": "code",
      "metadata": {
        "id": "UufhUSLjg8Zx"
      },
      "source": [
        "# Посмотреть на данные\n",
        "import tarfile\n",
        "\n",
        "zipfile = path_c+'lfw.tar.gz'\n",
        "if zipfile.endswith(\"tar.gz\"):\n",
        "    tar = tarfile.open(zipfile, \"r:gz\")\n",
        "elif zipfile.endswith(\"tar\"):\n",
        "    tar = tarfile.open(zipfile, \"r:\")\n",
        "ll = tar.getmembers( )\n",
        "tar.extractall(  )    \n",
        "\n",
        "tar.close()"
      ],
      "execution_count": null,
      "outputs": []
    },
    {
      "cell_type": "code",
      "metadata": {
        "id": "IK6BO-kNVlmb"
      },
      "source": [
        "label = []\n",
        "path_train = '/content/lfw/negative/'\n",
        "dir_list = os.listdir(path_train)\n",
        "m = 0\n",
        "for name in dir_list:\n",
        "    folder_list = os.listdir(path_train+name+'/')\n",
        "    image = []\n",
        "    image2 = []\n",
        "\n",
        "    if len(folder_list)>0:\n",
        "      \n",
        "      for i,k in enumerate(folder_list):\n",
        "        \n",
        "        img = cv.imread(path_train+name+'/'+k,   )\n",
        "        img = cv.resize(img,(32,32))\n",
        "        imgl = cv.cvtColor(img, cv.COLOR_RGB2GRAY)\n",
        "        \n",
        "        image.append(imgl.reshape(-1,32,32,1))\n",
        "        image2.append(imgl.reshape(32,32,1))\n",
        "      y1 = mod1.predict(np.array(image))\n",
        "      y2 =mod2.predict(np.array(image))\n",
        "      y3 =mod3.predict(np.array(image2))\n",
        "      label.append([diff(y1[0,:], y1[1,:]),diff(y2[0,:], y2[1,:]),diff(y3[0,:], y3[1,:])])  \n",
        "\n",
        "L0 = pd.DataFrame(np.array(label).reshape(-1,3),columns = ['dist mod','dist rand','dist siam'])\n",
        "\n",
        "L0['label'] =0\n",
        "L0.head()\n",
        "L0.to_csv(path_c+'H012.rez')     \n",
        "      "
      ],
      "execution_count": null,
      "outputs": []
    },
    {
      "cell_type": "code",
      "metadata": {
        "id": "t2XuOpLvVtcq"
      },
      "source": [
        "\n",
        "\n",
        "\n",
        "\n",
        "label = []\n",
        "path_train = '/content/lfw/positive/'\n",
        "dir_list = os.listdir(path_train)\n",
        "m = 0\n",
        "for name in dir_list:\n",
        "    folder_list = os.listdir(path_train+name+'/')\n",
        "    image = []\n",
        "    image2 = []\n",
        "    if len(folder_list)>0:\n",
        "      \n",
        "      for i,k in enumerate(folder_list):\n",
        "        \n",
        "        img = cv.imread(path_train+name+'/'+k,   )\n",
        "        img = cv.resize(img,(32,32))\n",
        "        imgl = cv.cvtColor(img, cv.COLOR_RGB2GRAY)\n",
        "        \n",
        "        image.append(imgl.reshape(-1,32,32,1))\n",
        "        image2.append(imgl.reshape(32,32,1))\n",
        "      y1 = mod1.predict(np.array(image))\n",
        "      y2 =mod2.predict(np.array(image))\n",
        "      y3 =mod3.predict(np.array(image2))\n",
        "      label.append([diff(y1[0,:], y1[1,:]),diff(y2[0,:], y2[1,:]),diff(y3[0,:], y3[1,:])])\n",
        "\n",
        "L1 = pd.DataFrame(np.array(label).reshape(-1,3),columns = ['dist mod','dist rand','dist siam'])\n",
        "L1['label'] =1\n",
        "L1.head()\n",
        "\n",
        "L0 = pd.concat([L0,L1])\n",
        "L0.head()\n",
        "L0.to_csv(path_c+'H012.rez')"
      ],
      "execution_count": null,
      "outputs": []
    },
    {
      "cell_type": "code",
      "metadata": {
        "colab": {
          "base_uri": "https://localhost:8080/",
          "height": 206
        },
        "id": "AMQEGj2V1GzD",
        "outputId": "e29bc2e3-690e-443a-dcd3-9ff96a4d399a"
      },
      "source": [
        "L0.head()"
      ],
      "execution_count": null,
      "outputs": [
        {
          "output_type": "execute_result",
          "data": {
            "text/html": [
              "<div>\n",
              "<style scoped>\n",
              "    .dataframe tbody tr th:only-of-type {\n",
              "        vertical-align: middle;\n",
              "    }\n",
              "\n",
              "    .dataframe tbody tr th {\n",
              "        vertical-align: top;\n",
              "    }\n",
              "\n",
              "    .dataframe thead th {\n",
              "        text-align: right;\n",
              "    }\n",
              "</style>\n",
              "<table border=\"1\" class=\"dataframe\">\n",
              "  <thead>\n",
              "    <tr style=\"text-align: right;\">\n",
              "      <th></th>\n",
              "      <th>dist mod</th>\n",
              "      <th>dist rand</th>\n",
              "      <th>dist siam</th>\n",
              "      <th>label</th>\n",
              "    </tr>\n",
              "  </thead>\n",
              "  <tbody>\n",
              "    <tr>\n",
              "      <th>0</th>\n",
              "      <td>27.355367</td>\n",
              "      <td>2.085671</td>\n",
              "      <td>0.949385</td>\n",
              "      <td>0</td>\n",
              "    </tr>\n",
              "    <tr>\n",
              "      <th>1</th>\n",
              "      <td>36.740424</td>\n",
              "      <td>3.768841</td>\n",
              "      <td>2.676939</td>\n",
              "      <td>0</td>\n",
              "    </tr>\n",
              "    <tr>\n",
              "      <th>2</th>\n",
              "      <td>34.667037</td>\n",
              "      <td>3.895053</td>\n",
              "      <td>2.540372</td>\n",
              "      <td>0</td>\n",
              "    </tr>\n",
              "    <tr>\n",
              "      <th>3</th>\n",
              "      <td>30.318393</td>\n",
              "      <td>3.581943</td>\n",
              "      <td>4.245723</td>\n",
              "      <td>0</td>\n",
              "    </tr>\n",
              "    <tr>\n",
              "      <th>4</th>\n",
              "      <td>31.682214</td>\n",
              "      <td>3.360122</td>\n",
              "      <td>1.660059</td>\n",
              "      <td>0</td>\n",
              "    </tr>\n",
              "  </tbody>\n",
              "</table>\n",
              "</div>"
            ],
            "text/plain": [
              "    dist mod  dist rand  dist siam  label\n",
              "0  27.355367   2.085671   0.949385      0\n",
              "1  36.740424   3.768841   2.676939      0\n",
              "2  34.667037   3.895053   2.540372      0\n",
              "3  30.318393   3.581943   4.245723      0\n",
              "4  31.682214   3.360122   1.660059      0"
            ]
          },
          "metadata": {},
          "execution_count": 24
        }
      ]
    },
    {
      "cell_type": "code",
      "metadata": {
        "colab": {
          "base_uri": "https://localhost:8080/",
          "height": 1000
        },
        "id": "J-9iNl7_WHOs",
        "outputId": "e1ccc8d2-f944-4fa7-fe66-79d4e190129c"
      },
      "source": [
        "stat_mod1, eer_mod1,acc_mod1 = image_clast_net(L0['dist mod'].values,L0.label.values,    verbose=1)\n",
        "print('Accuracy для mod1:', acc_mod1)\n",
        "print('ERR для mod1:', eer_mod1)\n",
        "stat_mod2, eer_mod2,acc_mod2 = image_clast_net(L0['dist rand'].values,L0.label.values,    verbose=1)\n",
        "print('Accuracy для mod2:', acc_mod2)\n",
        "print('ERR для mod2:', eer_mod2)\n",
        "stat_mod3, eer_mod3,acc_mod3 = image_clast_net(L0['dist siam'].values,L0.label.values,    verbose=1)\n",
        "print('Accuracy для mod3:', acc_mod3)\n",
        "print('ERR для mod3:', eer_mod3)"
      ],
      "execution_count": null,
      "outputs": [
        {
          "output_type": "stream",
          "name": "stderr",
          "text": [
            "No handles with labels found to put in legend.\n"
          ]
        },
        {
          "output_type": "display_data",
          "data": {
            "image/png": "[encoded data removed]",
            "text/plain": [
              "<Figure size 1152x360 with 2 Axes>"
            ]
          },
          "metadata": {
            "needs_background": "light"
          }
        },
        {
          "output_type": "stream",
          "name": "stdout",
          "text": [
            "средняя дистанция по 0: 34.3734731693875\n",
            "средняя дистанция по 1: 29.204078400100805\n",
            "std по 0: 9.309832262955357\n",
            "std по 1: 8.747447698034719\n",
            "доверит.интервал 0 (33.935298579444634, 34.81164775933037)\n",
            "доверит.интервал 1 (28.79237288276463, 29.61578391743698)\n",
            "интервал 3 sigms 0 [6.4439763805214305, 62.30296995825357]\n",
            "интервал 3 sigma 1 [2.9617353059966476, 55.44642149420496]\n"
          ]
        },
        {
          "output_type": "display_data",
          "data": {
            "image/png": "[encoded data removed]",
            "text/plain": [
              "<Figure size 432x288 with 1 Axes>"
            ]
          },
          "metadata": {
            "needs_background": "light"
          }
        },
        {
          "output_type": "stream",
          "name": "stderr",
          "text": [
            "No handles with labels found to put in legend.\n"
          ]
        },
        {
          "output_type": "stream",
          "name": "stdout",
          "text": [
            "тест Мана-Уитни p_value: 7.962426635372943e-102\n",
            "тест Вилкокса p_value: 7.767262997027163e-97\n",
            "5.949077361562667 68.63655412752013\n"
          ]
        },
        {
          "output_type": "display_data",
          "data": {
            "image/png": "[encoded data removed]",
            "text/plain": [
              "<Figure size 432x288 with 1 Axes>"
            ]
          },
          "metadata": {
            "needs_background": "light"
          }
        },
        {
          "output_type": "stream",
          "name": "stdout",
          "text": [
            "Accuracy для mod1: 0.6161666666666666\n",
            "ERR для mod1: 0.6161666666666666\n"
          ]
        },
        {
          "output_type": "stream",
          "name": "stderr",
          "text": [
            "No handles with labels found to put in legend.\n"
          ]
        },
        {
          "output_type": "display_data",
          "data": {
            "image/png": "[encoded data removed]",
            "text/plain": [
              "<Figure size 1152x360 with 2 Axes>"
            ]
          },
          "metadata": {
            "needs_background": "light"
          }
        },
        {
          "output_type": "stream",
          "name": "stdout",
          "text": [
            "средняя дистанция по 0: 3.395528254292411\n",
            "средняя дистанция по 1: 2.952982972948708\n",
            "std по 0: 0.552746463438256\n",
            "std по 1: 0.5975130205265442\n",
            "доверит.интервал 0 (3.3695128065250906, 3.421543702059731)\n",
            "доверит.интервал 1 (2.924860551903967, 2.9811053939934484)\n",
            "интервал 3 sigms 0 [1.737288863977643, 5.053767644607179]\n",
            "интервал 3 sigma 1 [1.1604439113690752, 4.74552203452834]\n"
          ]
        },
        {
          "output_type": "display_data",
          "data": {
            "image/png": "[encoded data removed]",
            "text/plain": [
              "<Figure size 432x288 with 1 Axes>"
            ]
          },
          "metadata": {
            "needs_background": "light"
          }
        },
        {
          "output_type": "stream",
          "name": "stdout",
          "text": [
            "тест Мана-Уитни p_value: 8.12909912830298e-174\n",
            "тест Вилкокса p_value: 6.49591814281799e-157\n",
            "0.3725416147105233 4.960594730099804\n"
          ]
        },
        {
          "output_type": "stream",
          "name": "stderr",
          "text": [
            "No handles with labels found to put in legend.\n"
          ]
        },
        {
          "output_type": "display_data",
          "data": {
            "image/png": "[encoded data removed]",
            "text/plain": [
              "<Figure size 432x288 with 1 Axes>"
            ]
          },
          "metadata": {
            "needs_background": "light"
          }
        },
        {
          "output_type": "stream",
          "name": "stdout",
          "text": [
            "Accuracy для mod2: 0.6553333333333333\n",
            "ERR для mod2: 0.6553333333333333\n"
          ]
        },
        {
          "output_type": "stream",
          "name": "stderr",
          "text": [
            "No handles with labels found to put in legend.\n"
          ]
        },
        {
          "output_type": "display_data",
          "data": {
            "image/png": "[encoded data removed]",
            "text/plain": [
              "<Figure size 1152x360 with 2 Axes>"
            ]
          },
          "metadata": {
            "needs_background": "light"
          }
        },
        {
          "output_type": "stream",
          "name": "stdout",
          "text": [
            "средняя дистанция по 0: 2.3181146709572054\n",
            "средняя дистанция по 1: 2.0105030448352914\n",
            "std по 0: 0.9153396146129689\n",
            "std по 1: 0.8801270086265919\n",
            "доверит.интервал 0 (2.275033490871134, 2.3611958510432767)\n",
            "доверит.интервал 1 (1.96907917379122, 2.051926915879363)\n",
            "интервал 3 sigms 0 [-0.42790417288170124, 5.0641335147961115]\n",
            "интервал 3 sigma 1 [-0.6298779810444843, 4.650884070715067]\n"
          ]
        },
        {
          "output_type": "display_data",
          "data": {
            "image/png": "[encoded data removed]",
            "text/plain": [
              "<Figure size 432x288 with 1 Axes>"
            ]
          },
          "metadata": {
            "needs_background": "light"
          }
        },
        {
          "output_type": "stream",
          "name": "stdout",
          "text": [
            "тест Мана-Уитни p_value: 1.5393539084301376e-49\n",
            "тест Вилкокса p_value: 6.82359733905352e-45\n",
            "0.3738973419939229 9.470354101696696\n"
          ]
        },
        {
          "output_type": "stream",
          "name": "stderr",
          "text": [
            "No handles with labels found to put in legend.\n"
          ]
        },
        {
          "output_type": "display_data",
          "data": {
            "image/png": "[encoded data removed]",
            "text/plain": [
              "<Figure size 432x288 with 1 Axes>"
            ]
          },
          "metadata": {
            "needs_background": "light"
          }
        },
        {
          "output_type": "stream",
          "name": "stdout",
          "text": [
            "Accuracy для mod3: 0.5788333333333333\n",
            "ERR для mod3: 0.5788333333333333\n"
          ]
        }
      ]
    },
    {
      "cell_type": "markdown",
      "metadata": {
        "id": "rFn0xvnOKxTW"
      },
      "source": [
        "Резюме теста:\n",
        "\n",
        "  - модель Эмбединг+классификация лучшая"
      ]
    },
    {
      "cell_type": "code",
      "metadata": {
        "id": "z5oPFg7uKIsk",
        "colab": {
          "base_uri": "https://localhost:8080/",
          "height": 216
        },
        "outputId": "8ea29c61-c2e5-4e3f-897c-177ad9596a8f"
      },
      "source": [
        "# Эксперимент результаты:\n",
        "\n",
        "rez = pd.DataFrame(data = [stat_mod1+[acc_mod1],stat_mod2+[acc_mod2],stat_mod3+[acc_mod3]],index=['случ.проекция','случ.проекц+классификация','siamesNet'] , columns = ['m0','m1','d0','d1','conf_int0[0]','conf_int0[1]','conf_int1[0]','conf_int1[1]','mu','wc','m0 -3s0','m0+3s0','m1 -3s1','m1+3s1', 'acc']) \n",
        "\n",
        "rez.to_csv('/gdrive/MyDrive/Face recognition/rez_test.csv')\n",
        "rez"
      ],
      "execution_count": null,
      "outputs": [
        {
          "output_type": "execute_result",
          "data": {
            "text/html": [
              "<div>\n",
              "<style scoped>\n",
              "    .dataframe tbody tr th:only-of-type {\n",
              "        vertical-align: middle;\n",
              "    }\n",
              "\n",
              "    .dataframe tbody tr th {\n",
              "        vertical-align: top;\n",
              "    }\n",
              "\n",
              "    .dataframe thead th {\n",
              "        text-align: right;\n",
              "    }\n",
              "</style>\n",
              "<table border=\"1\" class=\"dataframe\">\n",
              "  <thead>\n",
              "    <tr style=\"text-align: right;\">\n",
              "      <th></th>\n",
              "      <th>m0</th>\n",
              "      <th>m1</th>\n",
              "      <th>d0</th>\n",
              "      <th>d1</th>\n",
              "      <th>conf_int0[0]</th>\n",
              "      <th>conf_int0[1]</th>\n",
              "      <th>conf_int1[0]</th>\n",
              "      <th>conf_int1[1]</th>\n",
              "      <th>mu</th>\n",
              "      <th>wc</th>\n",
              "      <th>m0 -3s0</th>\n",
              "      <th>m0+3s0</th>\n",
              "      <th>m1 -3s1</th>\n",
              "      <th>m1+3s1</th>\n",
              "      <th>acc</th>\n",
              "    </tr>\n",
              "  </thead>\n",
              "  <tbody>\n",
              "    <tr>\n",
              "      <th>случ.проекция</th>\n",
              "      <td>34.373473</td>\n",
              "      <td>29.204078</td>\n",
              "      <td>9.309832</td>\n",
              "      <td>8.747448</td>\n",
              "      <td>33.935299</td>\n",
              "      <td>34.811648</td>\n",
              "      <td>28.792373</td>\n",
              "      <td>29.615784</td>\n",
              "      <td>7.962427e-102</td>\n",
              "      <td>7.767263e-97</td>\n",
              "      <td>6.443976</td>\n",
              "      <td>62.302970</td>\n",
              "      <td>2.961735</td>\n",
              "      <td>55.446421</td>\n",
              "      <td>0.616167</td>\n",
              "    </tr>\n",
              "    <tr>\n",
              "      <th>случ.проекц+классификация</th>\n",
              "      <td>3.395528</td>\n",
              "      <td>2.952983</td>\n",
              "      <td>0.552746</td>\n",
              "      <td>0.597513</td>\n",
              "      <td>3.369513</td>\n",
              "      <td>3.421544</td>\n",
              "      <td>2.924861</td>\n",
              "      <td>2.981105</td>\n",
              "      <td>8.129099e-174</td>\n",
              "      <td>6.495918e-157</td>\n",
              "      <td>1.737289</td>\n",
              "      <td>5.053768</td>\n",
              "      <td>1.160444</td>\n",
              "      <td>4.745522</td>\n",
              "      <td>0.655333</td>\n",
              "    </tr>\n",
              "    <tr>\n",
              "      <th>siamesNet</th>\n",
              "      <td>2.318115</td>\n",
              "      <td>2.010503</td>\n",
              "      <td>0.915340</td>\n",
              "      <td>0.880127</td>\n",
              "      <td>2.275033</td>\n",
              "      <td>2.361196</td>\n",
              "      <td>1.969079</td>\n",
              "      <td>2.051927</td>\n",
              "      <td>1.539354e-49</td>\n",
              "      <td>6.823597e-45</td>\n",
              "      <td>-0.427904</td>\n",
              "      <td>5.064134</td>\n",
              "      <td>-0.629878</td>\n",
              "      <td>4.650884</td>\n",
              "      <td>0.578833</td>\n",
              "    </tr>\n",
              "  </tbody>\n",
              "</table>\n",
              "</div>"
            ],
            "text/plain": [
              "                                  m0         m1  ...     m1+3s1       acc\n",
              "случ.проекция              34.373473  29.204078  ...  55.446421  0.616167\n",
              "случ.проекц+классификация   3.395528   2.952983  ...   4.745522  0.655333\n",
              "siamesNet                   2.318115   2.010503  ...   4.650884  0.578833\n",
              "\n",
              "[3 rows x 15 columns]"
            ]
          },
          "metadata": {},
          "execution_count": 31
        }
      ]
    },
    {
      "cell_type": "code",
      "metadata": {
        "id": "ofDDaL3Fbw3x"
      },
      "source": [
        ""
      ],
      "execution_count": null,
      "outputs": []
    }
  ]
}