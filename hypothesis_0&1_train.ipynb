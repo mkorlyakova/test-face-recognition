{
  "nbformat": 4,
  "nbformat_minor": 0,
  "metadata": {
    "colab": {
      "name": "hypothesis_0&1 train.ipynb",
      "provenance": [],
      "authorship_tag": "ABX9TyObRzPYuGnQ8AAj2eayGTV9",
      "include_colab_link": true
    },
    "kernelspec": {
      "name": "python3",
      "display_name": "Python 3"
    },
    "language_info": {
      "name": "python"
    }
  },
  "cells": [
    {
      "cell_type": "markdown",
      "metadata": {
        "id": "view-in-github",
        "colab_type": "text"
      },
      "source": [
        "<a href=\"https://colab.research.google.com/github/mkorlyakova/test-face-recognition/blob/main/hypothesis_0%261_train.ipynb\" target=\"_parent\"><img src=\"https://colab.research.google.com/assets/colab-badge.svg\" alt=\"Open In Colab\"/></a>"
      ]
    },
    {
      "cell_type": "markdown",
      "metadata": {
        "id": "wWkYSqrh2-VD"
      },
      "source": [
        "Импорт модулей"
      ]
    },
    {
      "cell_type": "code",
      "metadata": {
        "id": "7UVXT71SkNQb"
      },
      "source": [
        "import os\n",
        "\n",
        "import matplotlib.pyplot as plt\n",
        "import numpy as np\n",
        "import pandas as pd\n",
        "\n",
        "import cv2 as cv\n",
        "\n",
        "\n",
        "from scipy.stats import mannwhitneyu\n",
        "from scipy.stats import wilcoxon\n",
        "import scipy.stats as st\n",
        "\n",
        "import seaborn as sns\n",
        "import tensorflow as tf\n",
        "import tensorflow.keras as keras\n",
        "from tensorflow.keras.utils import Sequence"
      ],
      "execution_count": null,
      "outputs": []
    },
    {
      "cell_type": "markdown",
      "metadata": {
        "id": "tzmTwCBs3Hol"
      },
      "source": [
        "Подключение диска"
      ]
    },
    {
      "cell_type": "code",
      "metadata": {
        "colab": {
          "base_uri": "https://localhost:8080/"
        },
        "id": "pTQVOy-oYuIR",
        "outputId": "e814e95c-3536-457f-d203-d7e226b08a22"
      },
      "source": [
        "from google.colab import drive\n",
        "drive.mount('/gdrive')\n"
      ],
      "execution_count": null,
      "outputs": [
        {
          "output_type": "stream",
          "name": "stdout",
          "text": [
            "Drive already mounted at /gdrive; to attempt to forcibly remount, call drive.mount(\"/gdrive\", force_remount=True).\n"
          ]
        }
      ]
    },
    {
      "cell_type": "markdown",
      "metadata": {
        "id": "aOyEaW6E3UdL"
      },
      "source": [
        "Путь к данным на локальном диске (облако)"
      ]
    },
    {
      "cell_type": "code",
      "metadata": {
        "id": "X3NFhMBSnfZs"
      },
      "source": [
        "path_c = '/gdrive/MyDrive/Face recognition/'"
      ],
      "execution_count": null,
      "outputs": []
    },
    {
      "cell_type": "markdown",
      "metadata": {
        "id": "WzGb-mTnYf4T"
      },
      "source": [
        "## **Гипотеза 1 и 0:**\n",
        "\n",
        "Случайная проекция \n"
      ]
    },
    {
      "cell_type": "markdown",
      "metadata": {
        "id": "248WTNKy3cTt"
      },
      "source": [
        "Открываю данные на локальном диске виртуальной машины"
      ]
    },
    {
      "cell_type": "markdown",
      "metadata": {
        "id": "82m04W56WiMx"
      },
      "source": [
        "Заполним данными для обучения и теста массив image и label"
      ]
    },
    {
      "cell_type": "code",
      "metadata": {
        "colab": {
          "base_uri": "https://localhost:8080/"
        },
        "id": "ym9FWx7hO8gS",
        "outputId": "06c84dac-ce2a-47e5-8249-6489a717d183"
      },
      "source": [
        "image = []\n",
        "label = []\n",
        "path_train = '/content/casia_faces/'\n",
        "dir_list = os.listdir(path_train)\n",
        "m = 0\n",
        "for name in dir_list[:100]:\n",
        "  folder_list = os.listdir(path_train+name+'/')\n",
        "  print(name)\n",
        "  \n",
        "  if len(folder_list)>0:\n",
        " \n",
        "    for i,k in enumerate(folder_list):\n",
        "      \n",
        "      img = cv.imread(path_train+name+'/'+k,   )\n",
        "\n",
        "      img = cv.resize(img,(32,32))\n",
        "      imgl = cv.cvtColor(img, cv.COLOR_BGR2GRAY)\n",
        "      img = cv.cvtColor(img, cv.COLOR_BGR2GRAY)\n",
        "\n",
        "      image.append(imgl.reshape(-1,32,32,1))\n",
        "      label.append(m)\n",
        "  \n",
        "    m += 1\n"
      ],
      "execution_count": null,
      "outputs": [
        {
          "output_type": "stream",
          "name": "stdout",
          "text": [
            "person_6656\n",
            "person_5610\n",
            "person_50\n",
            "person_193\n",
            "person_1529\n",
            "person_8084\n",
            "person_7886\n",
            "person_3775\n",
            "person_3539\n",
            "person_1517\n",
            "person_5087\n",
            "person_1181\n",
            "person_7050\n",
            "person_6721\n",
            "person_1694\n",
            "person_6093\n",
            "person_859\n",
            "person_1454\n",
            "person_4192\n",
            "person_6120\n",
            "person_4134\n",
            "person_1999\n",
            "person_9300\n",
            "person_7342\n",
            "person_7725\n",
            "person_2766\n",
            "person_7666\n",
            "person_6992\n",
            "person_1151\n",
            "person_7094\n",
            "person_8582\n",
            "person_2702\n",
            "person_3877\n",
            "person_3700\n",
            "person_4003\n",
            "person_1160\n",
            "person_6790\n",
            "person_1562\n",
            "person_9430\n",
            "person_8961\n",
            "person_2343\n",
            "person_3171\n",
            "person_6663\n",
            "person_750\n",
            "person_37\n"
          ]
        }
      ]
    },
    {
      "cell_type": "code",
      "metadata": {
        "id": "sbcgY09KiTkg"
      },
      "source": [
        "image  = np.array(image)\n",
        "label = np.array(label)"
      ],
      "execution_count": null,
      "outputs": []
    },
    {
      "cell_type": "markdown",
      "metadata": {
        "id": "0MQz-dH_W_8j"
      },
      "source": [
        "Прочитали 1954 объекта и их метки\n",
        "\n"
      ]
    },
    {
      "cell_type": "code",
      "metadata": {
        "id": "TtA_82DW32Vs"
      },
      "source": [
        ""
      ],
      "execution_count": null,
      "outputs": []
    },
    {
      "cell_type": "markdown",
      "metadata": {
        "id": "BmPGAY1wQuCz"
      },
      "source": [
        "Гипотеза 0\n",
        "\n",
        "  - Случайная проекция "
      ]
    },
    {
      "cell_type": "code",
      "metadata": {
        "id": "YSnv8w7GREHq"
      },
      "source": [
        "rand_project1 = keras.models.Sequential([keras.layers.Conv3D(64,3,1,padding='same',activation='relu', input_shape = (1,32,32,1)),\n",
        "                                        \n",
        "                                        keras.layers.Embedding(32*32*64,64,input_length=1),\n",
        "                                        keras.layers.Flatten(), \n",
        "                                        keras.layers.Dense(32)])\n",
        "rand_project1.compile(loss = keras.losses.CategoricalCrossentropy(from_logits=False),metrics =['accuracy'])\n",
        "rand_project1.save_weights(path_c+'LRP.h5')"
      ],
      "execution_count": null,
      "outputs": []
    },
    {
      "cell_type": "markdown",
      "metadata": {
        "id": "vx45XGrgOcoE"
      },
      "source": [
        "Гипотеза 1:   \n",
        " - Случайная проекция обучена через классификатор конкретных классов"
      ]
    },
    {
      "cell_type": "code",
      "metadata": {
        "id": "Os6P18kaftAb"
      },
      "source": [
        "rand_project = keras.models.Sequential([keras.layers.Conv3D(64,3,1,padding='same',activation='relu', input_shape = (1,32,32,1)),\n",
        "                                        \n",
        "                                        keras.layers.Embedding(32*32*64,64,input_length=1),\n",
        "                                        keras.layers.Flatten(), \n",
        "                                        keras.layers.Dense(32),keras.layers.Dense(25),keras.layers.Softmax( )])\n",
        "rand_project.compile(loss = keras.losses.CategoricalCrossentropy(from_logits=False),metrics =['accuracy'])"
      ],
      "execution_count": null,
      "outputs": []
    },
    {
      "cell_type": "markdown",
      "metadata": {
        "id": "zXuP551jX6rh"
      },
      "source": [
        "Будем учить только плотный слой - сверточные слои не обучаем"
      ]
    },
    {
      "cell_type": "code",
      "metadata": {
        "colab": {
          "base_uri": "https://localhost:8080/"
        },
        "id": "qIH9P6KfmcFg",
        "outputId": "dd28ff40-1f8c-4870-8710-efa5c1609f9c"
      },
      "source": [
        "\n",
        "for i in range(3):\n",
        "  rand_project.layers[i].trainable = False\n",
        "\n",
        "rand_project.fit(image[:900],keras.utils.to_categorical(label[:900]),batch_size = 64, epochs = 10)  "
      ],
      "execution_count": null,
      "outputs": [
        {
          "output_type": "stream",
          "name": "stdout",
          "text": [
            "Epoch 1/10\n",
            "WARNING:tensorflow:Gradients do not exist for variables ['conv3d_1/kernel:0', 'conv3d_1/bias:0'] when minimizing the loss. If you're using `model.compile()`, did you forget to provide a `loss`argument?\n",
            "WARNING:tensorflow:Gradients do not exist for variables ['conv3d_1/kernel:0', 'conv3d_1/bias:0'] when minimizing the loss. If you're using `model.compile()`, did you forget to provide a `loss`argument?\n",
            "15/15 [==============================] - 66s 4s/step - loss: 193.9103 - accuracy: 0.0800\n",
            "Epoch 2/10\n",
            "15/15 [==============================] - 63s 4s/step - loss: 8.7499 - accuracy: 0.7044\n",
            "Epoch 3/10\n",
            "15/15 [==============================] - 62s 4s/step - loss: 0.3177 - accuracy: 0.9711\n",
            "Epoch 4/10\n",
            "15/15 [==============================] - 61s 4s/step - loss: 0.0072 - accuracy: 0.9956\n",
            "Epoch 5/10\n",
            "15/15 [==============================] - 62s 4s/step - loss: 6.2932e-05 - accuracy: 1.0000\n",
            "Epoch 6/10\n",
            "15/15 [==============================] - 61s 4s/step - loss: 1.2837e-05 - accuracy: 1.0000\n",
            "Epoch 7/10\n",
            "15/15 [==============================] - 63s 4s/step - loss: 9.5543e-06 - accuracy: 1.0000\n",
            "Epoch 8/10\n",
            "15/15 [==============================] - 60s 4s/step - loss: 5.9702e-06 - accuracy: 1.0000\n",
            "Epoch 9/10\n",
            "15/15 [==============================] - 61s 4s/step - loss: 3.6449e-06 - accuracy: 1.0000\n",
            "Epoch 10/10\n",
            "15/15 [==============================] - 60s 4s/step - loss: 2.2521e-06 - accuracy: 1.0000\n"
          ]
        },
        {
          "output_type": "execute_result",
          "data": {
            "text/plain": [
              "<keras.callbacks.History at 0x7f0dbb0da810>"
            ]
          },
          "metadata": {},
          "execution_count": 12
        }
      ]
    },
    {
      "cell_type": "markdown",
      "metadata": {
        "id": "-fLREiyHDoWW"
      },
      "source": [
        "Строим Эмбединг модель - rand_project без последних слоев"
      ]
    },
    {
      "cell_type": "code",
      "metadata": {
        "colab": {
          "base_uri": "https://localhost:8080/"
        },
        "id": "1sztENgh3tXa",
        "outputId": "3e4667e5-caed-4746-e27f-33dad5a2b412"
      },
      "source": [
        "mod = keras.models.Model(rand_project.inputs,rand_project.layers[-3].output)\n",
        "mod.summary()"
      ],
      "execution_count": null,
      "outputs": [
        {
          "output_type": "stream",
          "name": "stdout",
          "text": [
            "Model: \"model_1\"\n",
            "_________________________________________________________________\n",
            " Layer (type)                Output Shape              Param #   \n",
            "=================================================================\n",
            " conv3d_1_input (InputLayer)  [(None, 1, 32, 32, 1)]   0         \n",
            "                                                                 \n",
            " conv3d_1 (Conv3D)           (None, 1, 32, 32, 64)     1792      \n",
            "                                                                 \n",
            " embedding_1 (Embedding)     (None, 1, 32, 32, 64, 64  4194304   \n",
            "                             )                                   \n",
            "                                                                 \n",
            " flatten_1 (Flatten)         (None, 4194304)           0         \n",
            "                                                                 \n",
            " dense_1 (Dense)             (None, 32)                134217760 \n",
            "                                                                 \n",
            "=================================================================\n",
            "Total params: 138,413,856\n",
            "Trainable params: 134,217,760\n",
            "Non-trainable params: 4,196,096\n",
            "_________________________________________________________________\n"
          ]
        }
      ]
    },
    {
      "cell_type": "code",
      "metadata": {
        "id": "Os4lWZEndxhQ"
      },
      "source": [
        "mod.save_weights(path_c+'LRP_net.h5')"
      ],
      "execution_count": null,
      "outputs": []
    },
    {
      "cell_type": "markdown",
      "metadata": {
        "id": "F-UeLDLJ0uXy"
      },
      "source": [
        "Метрики:        \n",
        "\n",
        "\n"
      ]
    },
    {
      "cell_type": "code",
      "metadata": {
        "id": "nItIfAQnUNHV"
      },
      "source": [
        "# https://habr.com/ru/post/317798/\n",
        "\n",
        "def calc_metrics(targets_scores, imposter_scores):\n",
        "    \"\"\"\n",
        "    targets_scores - значения выхода модели через метрику для пар, \n",
        "    imposter_scores - значения выхода модели через метрику для не пар,\n",
        "    \"\"\"\n",
        "    # диапазоны\n",
        "    min_score = np.minimum(np.min(targets_scores), np.min(imposter_scores))\n",
        "    max_score = np.maximum(np.max(targets_scores), np.max(imposter_scores))\n",
        "    print(min_score,max_score)\n",
        "    n_tars = len(targets_scores)\n",
        "    n_imps = len(imposter_scores)\n",
        "\n",
        "    N = 100\n",
        "\n",
        "    fars = np.zeros((N,))\n",
        "    frrs = np.zeros((N,))\n",
        "    dists = np.zeros((N,))\n",
        "\n",
        "    mink = float('inf')\n",
        "    eer = 0\n",
        "    min_i = 0\n",
        "    # поиск оптимальной точки\n",
        "    for i, dist in enumerate(np.linspace(min_score, max_score, N)):\n",
        "        far = len(np.where(imposter_scores > dist)[0]) / n_imps\n",
        "        frr = len(np.where(targets_scores < dist)[0]) / n_tars\n",
        "        # добавили оценки по этому порогу для dist\n",
        "        fars[i] = far\n",
        "        frrs[i] = frr\n",
        "        dists[i] = dist\n",
        "\n",
        "        k = np.abs(far - frr)\n",
        "\n",
        "        if k < mink:\n",
        "            mink = k\n",
        "            min_i = i\n",
        "            eer = (far + frr) / 2\n",
        "    # accuracy\n",
        "\n",
        "    if n_tars>n_imps:\n",
        "      nn = n_imps\n",
        "    else:\n",
        "      nn = n_tars\n",
        "    TN = np.sum(imposter_scores[:nn] > dists[min_i]) \n",
        "    TP = np.sum(targets_scores[:nn] < dists[min_i])\n",
        "    acc = (TP+TN)/(nn*2)\n",
        "\n",
        "\n",
        "    return eer, fars, frrs, dists, min_i, acc\n",
        "# вычисление метрики для вложеня (Euqlid)\n",
        "def diff(e1, e2):\n",
        "    return np.sum((e1 - e2)**2) ** 0.5\n",
        "# cos\n",
        "def diffc(e1, e2):\n",
        "    return 1 - np.sum((e1 * e2))/np.sum( (e1**2)) ** 0.5/np.sum( (e2**2)) ** 0.5\n",
        "\n",
        "# метрики по эмбедингу (вложению)\n",
        "def my_embed_metric(X,L):\n",
        "  net_dist = np.ones((X.shape[0],X.shape[0])) # нормированное расстояние - инициализация 1(пока)\n",
        "  label_dist = np.ones((X.shape[0],X.shape[0])) # нормированное расстояние - инициализация 1(пока)\n",
        "  for i in range(X.shape[0]-1):\n",
        "    for j in range(i+1,X.shape[0]):\n",
        "      net_dist[i,j] = diff( X[i,:],X[j,:])\n",
        "      net_dist[j,i] =  net_dist[i,j]\n",
        "      label_dist[i,j] = int(L[i] == L[j])\n",
        "      label_dist[j,i] =  label_dist[i,j]\n",
        "\n",
        "\n",
        "def image_clast_net(n_emb,l_dist,    verbose=1):\n",
        "  '''\n",
        "  полный цикл  анализа\n",
        "  вход:\n",
        "    n_emb, - расстояния\n",
        "    l_dist, - метки\n",
        "  \n",
        "  гиперпараметры алгоритма:\n",
        "\n",
        ",  \n",
        "  \n",
        "  verbose = 1 - визуализировать результат (0 - не визуализировать)\n",
        "\n",
        "\n",
        "  \n",
        "  ''' \n",
        "\n",
        "  # строим метрики\n",
        "  if 1:\n",
        "\n",
        "      # анализ \n",
        "      # делим по меткам пар на похожие и нет пары \n",
        "      Dist1 = []\n",
        "      Dist0 = []\n",
        "      for i in range(n_emb.shape[0]):\n",
        "          if l_dist[i] :\n",
        "            Dist1.append(n_emb[i])\n",
        "          else:\n",
        "            Dist0.append(n_emb[i])  \n",
        "      if verbose:\n",
        "        plt.figure(figsize = (16,5))\n",
        "        plt.subplot(1,2,1)\n",
        "        plt.hist(Dist0,alpha = 0.5,bins = 100, label = 'labeli!=labelj : 0')\n",
        "        plt.hist(Dist1,alpha = 0.5,bins = 100, label = 'labeli==labelj : 1')\n",
        "        plt.legend()\n",
        "      \n",
        "        plt.grid(True)\n",
        "        plt.title('распределение рaсстояний по типам пар')\n",
        "        plt.subplot(1,2,2)\n",
        "        sns.kdeplot(Dist0,)\n",
        "        sns.kdeplot(Dist1)\n",
        "        plt.grid(True)\n",
        "        plt.legend()\n",
        "        plt.title('распределение рaсстояний по типам пар')\n",
        "        plt.show()\n",
        "      # среднее по выборке расстояние\n",
        "      m0 = np.mean(Dist0)\n",
        "      m1 = np.mean(Dist1)\n",
        "      print('средняя дистанция по 0:',m0)\n",
        "      print('средняя дистанция по 1:',m1)\n",
        "      # std по выборкам\n",
        "      d0 = np.std(Dist0)\n",
        "      d1 = np.std(Dist1)\n",
        "      # проверим сходство непараметрическими тестами\n",
        "      L1 = len(Dist1)\n",
        "      L0 = len(Dist0)\n",
        "      if L1>L0:\n",
        "        L_d01 = L0\n",
        "      else:\n",
        "        L_d01 = L1  \n",
        "      print('std по 0:',d0)\n",
        "      print('std по 1:',d1)\n",
        "      conf_int0 = st.t.interval(0.99, len(Dist0)-1, loc=np.mean(Dist0), scale=st.sem(Dist0))\n",
        "      conf_int1 = st.t.interval(0.99, len(Dist1)-1, loc=np.mean(Dist1), scale=st.sem(Dist1))\n",
        "      print('доверит.интервал 0',conf_int0)\n",
        "      print('доверит.интервал 1',conf_int1)\n",
        "      print('интервал 3 sigms 0',[m0-d0*3,m0+d0*3])\n",
        "      print('интервал 3 sigma 1',[m1-d1*3,m1+d1*3])\n",
        "      if verbose:\n",
        "        plt.plot([0,0,0],[conf_int0[0],m0,conf_int0[1]],'-og', label='0')\n",
        "        plt.plot([1,1,1],[conf_int1[0],m1,conf_int1[1]], '-ok',label='1')\n",
        "        plt.plot([0,0,0],[m0-d0,m0,m0+d0],'--xb', label='+-sigma 0')\n",
        "        plt.plot([1,1,1],[m1-d1,m1,m1+d1], '--xr',label='+-sigma 1')\n",
        "        plt.legend()\n",
        "        plt.title('доверит.интервал по типам пар и +-sig')\n",
        "        plt.show()\n",
        "      wc = wilcoxon(Dist1[:L_d01],Dist0[:L_d01])[1]\n",
        "      mu = mannwhitneyu(Dist1,Dist0)[1]\n",
        "      print('тест Мана-Уитни p_value:', mu)\n",
        "      print('тест Вилкокса p_value:', wc)\n",
        "      stat_rez = [m0,m1,d0,d1,conf_int0[0],conf_int0[1],conf_int1[0],conf_int1[1],mu,wc,m0-d0*3,m0+d0*3,m1-d1*3,m1+d1*3]\n",
        "      \n",
        "      eer, fars, frrs, dists, min_i, acc = calc_metrics(Dist1,Dist0)\n",
        "      plt.plot(fars,frrs)\n",
        "      plt.plot(fars[min_i],frrs[min_i],'or')\n",
        "      plt.grid(True)\n",
        "      plt.legend()\n",
        "      plt.title('FAR/FRR')\n",
        "      plt.xlabel('FAR')\n",
        "      plt.ylabel('FRR')\n",
        "      plt.show()\n",
        "\n",
        "  return  stat_rez, eer,acc"
      ],
      "execution_count": null,
      "outputs": []
    },
    {
      "cell_type": "markdown",
      "metadata": {
        "id": "65ImoToF7zP4"
      },
      "source": [
        "Сделаю несколько моделей поменьше проверить как они работают в таком формате:"
      ]
    },
    {
      "cell_type": "code",
      "metadata": {
        "colab": {
          "base_uri": "https://localhost:8080/"
        },
        "id": "Rv9BShQR8JNw",
        "outputId": "1a10ebc2-f66d-4537-8ac9-5acd5c4e3f14"
      },
      "source": [
        "# вернем данные для обучения \n",
        "\n",
        "image = []\n",
        "label = []\n",
        "path_train = '/content/casia_faces/'\n",
        "dir_list = os.listdir(path_train)\n",
        "m = 0\n",
        "for name in dir_list[:100]:\n",
        "  folder_list = os.listdir(path_train+name+'/')\n",
        "  print(name)\n",
        "  \n",
        "  if len(folder_list)>0:\n",
        " \n",
        "    for i,k in enumerate(folder_list):\n",
        "      \n",
        "      img = cv.imread(path_train+name+'/'+k,   )\n",
        "\n",
        "      img = cv.resize(img,(32,32))\n",
        "      imgl = cv.cvtColor(img, cv.COLOR_BGR2GRAY)\n",
        "      img = cv.cvtColor(img, cv.COLOR_BGR2GRAY)\n",
        "\n",
        "      image.append(imgl.reshape(-1,32,32,1))\n",
        "      label.append(m)\n",
        "  \n",
        "    m += 1"
      ],
      "execution_count": null,
      "outputs": [
        {
          "output_type": "stream",
          "name": "stdout",
          "text": [
            "person_6656\n",
            "person_5610\n",
            "person_50\n",
            "person_193\n",
            "person_1529\n",
            "person_8084\n",
            "person_7886\n",
            "person_3775\n",
            "person_3539\n",
            "person_1517\n",
            "person_5087\n",
            "person_1181\n",
            "person_7050\n",
            "person_6721\n",
            "person_1694\n",
            "person_6093\n",
            "person_859\n",
            "person_1454\n",
            "person_4192\n",
            "person_6120\n",
            "person_4134\n",
            "person_1999\n",
            "person_9300\n",
            "person_7342\n",
            "person_7725\n",
            "person_2766\n",
            "person_7666\n",
            "person_6992\n",
            "person_1151\n",
            "person_7094\n",
            "person_8582\n",
            "person_2702\n",
            "person_3877\n",
            "person_3700\n",
            "person_4003\n",
            "person_1160\n",
            "person_6790\n",
            "person_1562\n",
            "person_9430\n",
            "person_8961\n",
            "person_2343\n",
            "person_3171\n",
            "person_6663\n",
            "person_750\n",
            "person_37\n"
          ]
        }
      ]
    },
    {
      "cell_type": "markdown",
      "metadata": {
        "id": "Ud2BG1XgLXrb"
      },
      "source": [
        "Модель для настройки"
      ]
    },
    {
      "cell_type": "code",
      "metadata": {
        "id": "Jfv_MtC52jBV"
      },
      "source": [
        "\n",
        "def rand_class(levels_c = [64,32,32],level_d = [32,25] ):\n",
        "  \"\"\"\n",
        "  передаем список числа фильтров в свертках -levels_c\n",
        "  передаем список числа нейронов в плотных слоях -levels_d \n",
        "  \"\"\"\n",
        "  rand_project = keras.models.Sequential([keras.layers.Conv3D(levels_c[0],3,1,padding='same',activation='relu', input_shape = (1,32,32,1))])\n",
        "  for i in levels_c[1:]:\n",
        "    rand_project.add(keras.layers.Conv2D(i,3,1,padding='same',activation='relu'))\n",
        "    rand_project.add(keras.layers.Conv2D(i,3,2,padding='same',activation='relu'))\n",
        "  rand_project.add(keras.layers.Flatten())\n",
        "  for i in level_d:\n",
        "    rand_project.add(keras.layers.Dense(i))\n",
        "    \n",
        "  rand_project.add(keras.layers.Dense(level_d[1],activation='sigmoid'))\n",
        "  rand_project.add(keras.layers.Dense(level_d[1]))\n",
        "  rand_project.add(keras.layers.Softmax( ))\n",
        "  \n",
        "  rand_project.compile(loss = keras.losses.CategoricalCrossentropy(from_logits=False),metrics =['accuracy'])\n",
        "  # Свертки не обучаем\n",
        "  for i in range(3):\n",
        "    rand_project.layers[i].trainable = False\n",
        "\n",
        "  return rand_project\n",
        "\n"
      ],
      "execution_count": null,
      "outputs": []
    },
    {
      "cell_type": "code",
      "metadata": {
        "id": "earRQQfrAJ4m"
      },
      "source": [
        "rez1 = pd.DataFrame(np.zeros((10,6)), columns = ['c1','c2','c3','d1','acc','eer'])\n",
        "\n"
      ],
      "execution_count": null,
      "outputs": []
    },
    {
      "cell_type": "code",
      "metadata": {
        "id": "FRGe4pWMGGLB"
      },
      "source": [
        "label=np.array(label)\n",
        "image = np.array(image)"
      ],
      "execution_count": null,
      "outputs": []
    },
    {
      "cell_type": "code",
      "metadata": {
        "colab": {
          "base_uri": "https://localhost:8080/"
        },
        "id": "olaiwtzECDHu",
        "outputId": "8f3b985a-f121-469f-f99d-d7674968ff11"
      },
      "source": [
        "ind = list(range(len(label[1000:])))\n",
        "ind1 = ind[::2] + np.random.choice(ind,size=(500,)).tolist()\n",
        "ind2 = ind[1::2] + np.random.choice(ind,size=(500,)).tolist()\n",
        "\n",
        "labe_ = np.array(label[ind1] == label[ind2]).astype(int)\n",
        "\n",
        "np.sum(labe_)/len(labe_)"
      ],
      "execution_count": null,
      "outputs": [
        {
          "output_type": "execute_result",
          "data": {
            "text/plain": [
              "0.503582395087001"
            ]
          },
          "metadata": {},
          "execution_count": 121
        }
      ]
    },
    {
      "cell_type": "code",
      "metadata": {
        "id": "PVIUgDW3-nwT",
        "colab": {
          "base_uri": "https://localhost:8080/",
          "height": 1000
        },
        "outputId": "f031011f-260c-4b5d-fec6-d3cdb1b4c6ad"
      },
      "source": [
        "\n",
        "for i in range(10):\n",
        "  conv = [np.random.randint(4,16),np.random.randint(4,32),np.random.randint(4,32)]\n",
        "  den = [np.random.randint(8,64),25]\n",
        "  rand_project = rand_class(levels_c = conv,level_d = den )\n",
        "  rand_project.fit(image[:900],keras.utils.to_categorical(label[:900]),batch_size = 64, epochs = 10)\n",
        "  mod = keras.models.Model(rand_project.inputs,rand_project.layers[-3].output)\n",
        "\n",
        "  f_new = mod.predict(image[1000:,:,:,:])\n",
        "  dist = []\n",
        "  \n",
        "  for nn in zip(ind1,ind2):\n",
        "\n",
        "    dist.append(diff(f_new[nn[1],:],f_new[nn[0],:]))\n",
        "\n",
        "  dist = np.array(dist)\n",
        "  stat_rand, eer_rand,acc_rand = image_clast_net(dist,labe_,    verbose=0)\n",
        "\n",
        "  print(conv,den)\n",
        "  print('Accuracy для mod:', acc_rand)\n",
        "  print('ERR для mod:', eer_rand)\n",
        "  rez1.iloc[i,:] = conv+den[:1]+[eer_rand,acc_rand]\n",
        "\n",
        "\n",
        "\n"
      ],
      "execution_count": null,
      "outputs": [
        {
          "output_type": "stream",
          "name": "stdout",
          "text": [
            "Epoch 1/10\n",
            "15/15 [==============================] - 4s 151ms/step - loss: 3.1654 - accuracy: 0.0856\n",
            "Epoch 2/10\n",
            "15/15 [==============================] - 2s 148ms/step - loss: 3.0597 - accuracy: 0.1311\n",
            "Epoch 3/10\n",
            "15/15 [==============================] - 2s 150ms/step - loss: 3.0050 - accuracy: 0.1444\n",
            "Epoch 4/10\n",
            "15/15 [==============================] - 2s 152ms/step - loss: 2.9809 - accuracy: 0.1556\n",
            "Epoch 5/10\n",
            "15/15 [==============================] - 2s 149ms/step - loss: 2.9354 - accuracy: 0.1844\n",
            "Epoch 6/10\n",
            "15/15 [==============================] - 2s 149ms/step - loss: 2.8818 - accuracy: 0.1889\n",
            "Epoch 7/10\n",
            "15/15 [==============================] - 2s 149ms/step - loss: 2.8507 - accuracy: 0.1967\n",
            "Epoch 8/10\n",
            "15/15 [==============================] - 2s 148ms/step - loss: 2.7391 - accuracy: 0.2344\n",
            "Epoch 9/10\n",
            "15/15 [==============================] - 2s 149ms/step - loss: 2.6601 - accuracy: 0.2633\n",
            "Epoch 10/10\n",
            "15/15 [==============================] - 2s 144ms/step - loss: 2.5524 - accuracy: 0.3100\n"
          ]
        },
        {
          "output_type": "stream",
          "name": "stderr",
          "text": [
            "No handles with labels found to put in legend.\n"
          ]
        },
        {
          "output_type": "stream",
          "name": "stdout",
          "text": [
            "средняя дистанция по 0: 2.4356762466477146\n",
            "средняя дистанция по 1: 2.2545037527455927\n",
            "std по 0: 0.5406509706903702\n",
            "std по 1: 0.5968566484930907\n",
            "доверит.интервал 0 (2.372124561260643, 2.499227932034786)\n",
            "доверит.интервал 1 (2.1848511171702736, 2.3241563883209118)\n",
            "интервал 3 sigms 0 [0.8137233345766042, 4.057629158718825]\n",
            "интервал 3 sigma 1 [0.4639338072663204, 4.045073698224865]\n",
            "тест Мана-Уитни p_value: 2.934995762414279e-06\n",
            "тест Вилкокса p_value: 1.923270648333238e-06\n",
            "0.0 3.9346812013180763\n"
          ]
        },
        {
          "output_type": "display_data",
          "data": {
            "image/png": "[encoded data removed]",
            "text/plain": [
              "<Figure size 432x288 with 1 Axes>"
            ]
          },
          "metadata": {
            "needs_background": "light"
          }
        },
        {
          "output_type": "stream",
          "name": "stdout",
          "text": [
            "[7, 19, 19] [40, 25]\n",
            "Accuracy для mod: 0.5556701030927835\n",
            "ERR для mod: 0.5579247338865141\n",
            "Epoch 1/10\n",
            "15/15 [==============================] - 4s 149ms/step - loss: 3.0742 - accuracy: 0.1322\n",
            "Epoch 2/10\n",
            "15/15 [==============================] - 2s 147ms/step - loss: 2.8868 - accuracy: 0.1800\n",
            "Epoch 3/10\n",
            "15/15 [==============================] - 2s 149ms/step - loss: 2.7434 - accuracy: 0.2500\n",
            "Epoch 4/10\n",
            "15/15 [==============================] - 2s 143ms/step - loss: 2.6144 - accuracy: 0.3044\n",
            "Epoch 5/10\n",
            "15/15 [==============================] - 2s 143ms/step - loss: 2.4816 - accuracy: 0.3289\n",
            "Epoch 6/10\n",
            "15/15 [==============================] - 2s 142ms/step - loss: 2.4007 - accuracy: 0.3556\n",
            "Epoch 7/10\n",
            "15/15 [==============================] - 2s 145ms/step - loss: 2.3065 - accuracy: 0.4033\n",
            "Epoch 8/10\n",
            "15/15 [==============================] - 2s 148ms/step - loss: 2.2061 - accuracy: 0.4333\n",
            "Epoch 9/10\n",
            "15/15 [==============================] - 2s 148ms/step - loss: 2.1169 - accuracy: 0.4600\n",
            "Epoch 10/10\n",
            "15/15 [==============================] - 2s 146ms/step - loss: 2.0522 - accuracy: 0.4778\n",
            "средняя дистанция по 0: 2.817648699450932\n",
            "средняя дистанция по 1: 2.6608010605720334\n",
            "std по 0: 0.5918947318589218\n",
            "std по 1: 0.6381378866801231\n",
            "доверит.интервал 0 (2.7480734839781276, 2.8872239149237364)\n",
            "доверит.интервал 1 (2.586330941524261, 2.7352711796198057)\n",
            "интервал 3 sigms 0 [1.0419645038741665, 4.5933328950276975]\n",
            "интервал 3 sigma 1 [0.7463874005316642, 4.5752147206124025]\n",
            "тест Мана-Уитни p_value: 0.00020628395186613916\n",
            "тест Вилкокса p_value: 0.00011838827599500862\n",
            "0.0 4.415395781769509\n"
          ]
        },
        {
          "output_type": "stream",
          "name": "stderr",
          "text": [
            "No handles with labels found to put in legend.\n"
          ]
        },
        {
          "output_type": "display_data",
          "data": {
            "image/png": "[encoded data removed]",
            "text/plain": [
              "<Figure size 432x288 with 1 Axes>"
            ]
          },
          "metadata": {
            "needs_background": "light"
          }
        },
        {
          "output_type": "stream",
          "name": "stdout",
          "text": [
            "[6, 24, 10] [25, 25]\n",
            "Accuracy для mod: 0.5319587628865979\n",
            "ERR для mod: 0.5332704718799766\n",
            "Epoch 1/10\n",
            "15/15 [==============================] - 3s 129ms/step - loss: 3.1176 - accuracy: 0.1311\n",
            "Epoch 2/10\n",
            "15/15 [==============================] - 2s 131ms/step - loss: 2.9820 - accuracy: 0.1511\n",
            "Epoch 3/10\n",
            "15/15 [==============================] - 2s 129ms/step - loss: 2.8580 - accuracy: 0.2067\n",
            "Epoch 4/10\n",
            "15/15 [==============================] - 2s 130ms/step - loss: 2.7609 - accuracy: 0.2533\n",
            "Epoch 5/10\n",
            "15/15 [==============================] - 2s 128ms/step - loss: 2.6653 - accuracy: 0.2944\n",
            "Epoch 6/10\n",
            "15/15 [==============================] - 2s 130ms/step - loss: 2.5903 - accuracy: 0.3000\n",
            "Epoch 7/10\n",
            "15/15 [==============================] - 2s 130ms/step - loss: 2.4910 - accuracy: 0.3522\n",
            "Epoch 8/10\n",
            "15/15 [==============================] - 2s 130ms/step - loss: 2.4181 - accuracy: 0.3678\n",
            "Epoch 9/10\n",
            "15/15 [==============================] - 2s 129ms/step - loss: 2.3103 - accuracy: 0.3978\n",
            "Epoch 10/10\n",
            "15/15 [==============================] - 2s 126ms/step - loss: 2.2171 - accuracy: 0.4256\n"
          ]
        },
        {
          "output_type": "stream",
          "name": "stderr",
          "text": [
            "No handles with labels found to put in legend.\n"
          ]
        },
        {
          "output_type": "stream",
          "name": "stdout",
          "text": [
            "средняя дистанция по 0: 2.3735583903330397\n",
            "средняя дистанция по 1: 2.333570084673152\n",
            "std по 0: 0.6494650200814518\n",
            "std по 1: 0.660980975558819\n",
            "доверит.интервал 0 (2.2972159830061463, 2.449900797659933)\n",
            "доверит.интервал 1 (2.2564341976405555, 2.4107059717057484)\n",
            "интервал 3 sigms 0 [0.42516333008868434, 4.321953450577395]\n",
            "интервал 3 sigma 1 [0.3506271579966951, 4.316513011349609]\n",
            "тест Мана-Уитни p_value: 0.15671171034838877\n",
            "тест Вилкокса p_value: 0.3717156371222977\n",
            "0.0 4.415443514950205\n"
          ]
        },
        {
          "output_type": "display_data",
          "data": {
            "image/png": "[encoded data removed]",
            "text/plain": [
              "<Figure size 432x288 with 1 Axes>"
            ]
          },
          "metadata": {
            "needs_background": "light"
          }
        },
        {
          "output_type": "stream",
          "name": "stdout",
          "text": [
            "[13, 4, 22] [20, 25]\n",
            "Accuracy для mod: 0.5144329896907216\n",
            "ERR для mod: 0.5158913754085994\n",
            "Epoch 1/10\n",
            "15/15 [==============================] - 4s 151ms/step - loss: 3.2252 - accuracy: 0.1000\n",
            "Epoch 2/10\n",
            "15/15 [==============================] - 2s 151ms/step - loss: 3.0425 - accuracy: 0.1422\n",
            "Epoch 3/10\n",
            "15/15 [==============================] - 2s 151ms/step - loss: 2.9330 - accuracy: 0.1922\n",
            "Epoch 4/10\n",
            "15/15 [==============================] - 2s 149ms/step - loss: 2.8186 - accuracy: 0.2144\n",
            "Epoch 5/10\n",
            "15/15 [==============================] - 2s 150ms/step - loss: 2.7547 - accuracy: 0.2344\n",
            "Epoch 6/10\n",
            "15/15 [==============================] - 2s 151ms/step - loss: 2.6664 - accuracy: 0.2522\n",
            "Epoch 7/10\n",
            "15/15 [==============================] - 2s 150ms/step - loss: 2.5989 - accuracy: 0.2878\n",
            "Epoch 8/10\n",
            "15/15 [==============================] - 2s 149ms/step - loss: 2.5398 - accuracy: 0.2989\n",
            "Epoch 9/10\n",
            "15/15 [==============================] - 2s 151ms/step - loss: 2.4788 - accuracy: 0.3133\n",
            "Epoch 10/10\n",
            "15/15 [==============================] - 2s 148ms/step - loss: 2.3933 - accuracy: 0.3511\n"
          ]
        },
        {
          "output_type": "stream",
          "name": "stderr",
          "text": [
            "No handles with labels found to put in legend.\n"
          ]
        },
        {
          "output_type": "stream",
          "name": "stdout",
          "text": [
            "средняя дистанция по 0: 2.6791446261786276\n",
            "средняя дистанция по 1: 2.6128157755644303\n",
            "std по 0: 0.6008169692169948\n",
            "std по 1: 0.64721404715707\n",
            "доверит.интервал 0 (2.6085206320070538, 2.7497686203502014)\n",
            "доверит.интервал 1 (2.53728647672915, 2.688345074399711)\n",
            "интервал 3 sigms 0 [0.8766937185276431, 4.481595533829612]\n",
            "интервал 3 sigma 1 [0.6711736340932204, 4.5544579170356405]\n",
            "тест Мана-Уитни p_value: 0.04513114415067715\n",
            "тест Вилкокса p_value: 0.2780796183185509\n",
            "0.0 4.251527399593256\n"
          ]
        },
        {
          "output_type": "display_data",
          "data": {
            "image/png": "[encoded data removed]",
            "text/plain": [
              "<Figure size 432x288 with 1 Axes>"
            ]
          },
          "metadata": {
            "needs_background": "light"
          }
        },
        {
          "output_type": "stream",
          "name": "stdout",
          "text": [
            "[14, 13, 11] [20, 25]\n",
            "Accuracy для mod: 0.5247422680412371\n",
            "ERR для mod: 0.5260686447070657\n",
            "Epoch 1/10\n",
            "15/15 [==============================] - 4s 145ms/step - loss: 3.1129 - accuracy: 0.1033\n",
            "Epoch 2/10\n",
            "15/15 [==============================] - 2s 145ms/step - loss: 2.9749 - accuracy: 0.1533\n",
            "Epoch 3/10\n",
            "15/15 [==============================] - 2s 147ms/step - loss: 2.8979 - accuracy: 0.1822\n",
            "Epoch 4/10\n",
            "15/15 [==============================] - 2s 142ms/step - loss: 2.8385 - accuracy: 0.2122\n",
            "Epoch 5/10\n",
            "15/15 [==============================] - 2s 145ms/step - loss: 2.7591 - accuracy: 0.2478\n",
            "Epoch 6/10\n",
            "15/15 [==============================] - 2s 145ms/step - loss: 2.7191 - accuracy: 0.2356\n",
            "Epoch 7/10\n",
            "15/15 [==============================] - 2s 147ms/step - loss: 2.6478 - accuracy: 0.2789\n",
            "Epoch 8/10\n",
            "15/15 [==============================] - 2s 146ms/step - loss: 2.5753 - accuracy: 0.2911\n",
            "Epoch 9/10\n",
            "15/15 [==============================] - 2s 144ms/step - loss: 2.5168 - accuracy: 0.3056\n",
            "Epoch 10/10\n",
            "15/15 [==============================] - 2s 144ms/step - loss: 2.4791 - accuracy: 0.3178\n"
          ]
        },
        {
          "output_type": "stream",
          "name": "stderr",
          "text": [
            "No handles with labels found to put in legend.\n"
          ]
        },
        {
          "output_type": "stream",
          "name": "stdout",
          "text": [
            "средняя дистанция по 0: 2.755079458324521\n",
            "средняя дистанция по 1: 2.595704662349018\n",
            "std по 0: 0.6253142013282452\n",
            "std по 1: 0.6933410909594406\n",
            "доверит.интервал 0 (2.6815758977184316, 2.82858301893061)\n",
            "доверит.интервал 1 (2.51479237887204, 2.676616945825996)\n",
            "интервал 3 sigms 0 [0.8791368543397851, 4.631022062309256]\n",
            "интервал 3 sigma 1 [0.515681389470696, 4.675727935227339]\n",
            "тест Мана-Уитни p_value: 0.00044048993501480334\n",
            "тест Вилкокса p_value: 0.00038395204628269866\n",
            "0.0 4.4919926078647245\n"
          ]
        },
        {
          "output_type": "display_data",
          "data": {
            "image/png": "[encoded data removed]",
            "text/plain": [
              "<Figure size 432x288 with 1 Axes>"
            ]
          },
          "metadata": {
            "needs_background": "light"
          }
        },
        {
          "output_type": "stream",
          "name": "stdout",
          "text": [
            "[8, 22, 4] [11, 25]\n",
            "Accuracy для mod: 0.5298969072164949\n",
            "ERR для mod: 0.52919076355712\n",
            "Epoch 1/10\n",
            "15/15 [==============================] - 4s 182ms/step - loss: 3.1709 - accuracy: 0.1011\n",
            "Epoch 2/10\n",
            "15/15 [==============================] - 3s 186ms/step - loss: 3.0610 - accuracy: 0.1333\n",
            "Epoch 3/10\n",
            "15/15 [==============================] - 3s 181ms/step - loss: 2.9599 - accuracy: 0.1878\n",
            "Epoch 4/10\n",
            "15/15 [==============================] - 3s 181ms/step - loss: 2.9218 - accuracy: 0.2022\n",
            "Epoch 5/10\n",
            "15/15 [==============================] - 3s 182ms/step - loss: 2.8774 - accuracy: 0.2111\n",
            "Epoch 6/10\n",
            "15/15 [==============================] - 3s 182ms/step - loss: 2.8286 - accuracy: 0.2244\n",
            "Epoch 7/10\n",
            "15/15 [==============================] - 3s 182ms/step - loss: 2.7779 - accuracy: 0.2300\n",
            "Epoch 8/10\n",
            "15/15 [==============================] - 3s 182ms/step - loss: 2.7389 - accuracy: 0.2456\n",
            "Epoch 9/10\n",
            "15/15 [==============================] - 3s 181ms/step - loss: 2.6835 - accuracy: 0.2733\n",
            "Epoch 10/10\n",
            "15/15 [==============================] - 3s 183ms/step - loss: 2.6113 - accuracy: 0.2978\n"
          ]
        },
        {
          "output_type": "stream",
          "name": "stderr",
          "text": [
            "No handles with labels found to put in legend.\n"
          ]
        },
        {
          "output_type": "stream",
          "name": "stdout",
          "text": [
            "средняя дистанция по 0: 2.2961729211464275\n",
            "средняя дистанция по 1: 2.1896888317069307\n",
            "std по 0: 0.5362395296717408\n",
            "std по 1: 0.591077868286302\n",
            "доверит.интервал 0 (2.2331397856684805, 2.3592060566243744)\n",
            "доверит.интервал 1 (2.12071057459892, 2.2586670888149416)\n",
            "интервал 3 sigms 0 [0.687454332131205, 3.90489151016165]\n",
            "интервал 3 sigma 1 [0.4164552268480246, 3.9629224365658366]\n",
            "тест Мана-Уитни p_value: 0.008023201199470236\n",
            "тест Вилкокса p_value: 0.011644476720053925\n",
            "0.0 3.6377397490993957\n"
          ]
        },
        {
          "output_type": "display_data",
          "data": {
            "image/png": "[encoded data removed]",
            "text/plain": [
              "<Figure size 432x288 with 1 Axes>"
            ]
          },
          "metadata": {
            "needs_background": "light"
          }
        },
        {
          "output_type": "stream",
          "name": "stdout",
          "text": [
            "[14, 24, 7] [47, 25]\n",
            "Accuracy для mod: 0.5309278350515464\n",
            "ERR для mod: 0.5302070237197217\n",
            "Epoch 1/10\n",
            "15/15 [==============================] - 5s 205ms/step - loss: 3.1959 - accuracy: 0.0944\n",
            "Epoch 2/10\n",
            "15/15 [==============================] - 3s 205ms/step - loss: 3.1574 - accuracy: 0.1100\n",
            "Epoch 3/10\n",
            "15/15 [==============================] - 3s 203ms/step - loss: 3.0741 - accuracy: 0.1300\n",
            "Epoch 4/10\n",
            "15/15 [==============================] - 3s 206ms/step - loss: 3.0172 - accuracy: 0.1300\n",
            "Epoch 5/10\n",
            "15/15 [==============================] - 3s 206ms/step - loss: 2.9952 - accuracy: 0.1300\n",
            "Epoch 6/10\n",
            "15/15 [==============================] - 3s 204ms/step - loss: 2.9822 - accuracy: 0.1300\n",
            "Epoch 7/10\n",
            "15/15 [==============================] - 3s 198ms/step - loss: 2.9745 - accuracy: 0.1311\n",
            "Epoch 8/10\n",
            "15/15 [==============================] - 3s 200ms/step - loss: 2.9705 - accuracy: 0.1456\n",
            "Epoch 9/10\n",
            "15/15 [==============================] - 3s 198ms/step - loss: 2.9672 - accuracy: 0.1456\n",
            "Epoch 10/10\n",
            "15/15 [==============================] - 3s 197ms/step - loss: 2.9645 - accuracy: 0.1467\n"
          ]
        },
        {
          "output_type": "stream",
          "name": "stderr",
          "text": [
            "No handles with labels found to put in legend.\n"
          ]
        },
        {
          "output_type": "stream",
          "name": "stdout",
          "text": [
            "средняя дистанция по 0: 3.0213164001190023e-05\n",
            "средняя дистанция по 1: 0.0001368456436150661\n",
            "std по 0: 0.00037672556810090514\n",
            "std по 1: 0.001980513626464653\n",
            "доверит.интервал 0 (-1.4069647052756692e-05, 7.449597505513674e-05)\n",
            "доверит.интервал 1 (-9.427852032677648e-05, 0.0003679698075569087)\n",
            "интервал 3 sigms 0 [-0.0010999635403015253, 0.0011603898683039055]\n",
            "интервал 3 sigma 1 [-0.005804695235778893, 0.006078386523009025]\n",
            "тест Мана-Уитни p_value: 0.04662641760969137\n",
            "тест Вилкокса p_value: 0.5814227049772996\n",
            "0.0 0.042940348482893444\n"
          ]
        },
        {
          "output_type": "display_data",
          "data": {
            "image/png": "[encoded data removed]",
            "text/plain": [
              "<Figure size 432x288 with 1 Axes>"
            ]
          },
          "metadata": {
            "needs_background": "light"
          }
        },
        {
          "output_type": "stream",
          "name": "stdout",
          "text": [
            "[11, 27, 26] [37, 25]\n",
            "Accuracy для mod: 0.49587628865979383\n",
            "ERR для mod: 0.49496270220434163\n",
            "Epoch 1/10\n",
            "15/15 [==============================] - 4s 138ms/step - loss: 3.1573 - accuracy: 0.1078\n",
            "Epoch 2/10\n",
            "15/15 [==============================] - 2s 138ms/step - loss: 2.9577 - accuracy: 0.1844\n",
            "Epoch 3/10\n",
            "15/15 [==============================] - 2s 143ms/step - loss: 2.8109 - accuracy: 0.2356\n",
            "Epoch 4/10\n",
            "15/15 [==============================] - 2s 136ms/step - loss: 2.7117 - accuracy: 0.2711\n",
            "Epoch 5/10\n",
            "15/15 [==============================] - 2s 136ms/step - loss: 2.5892 - accuracy: 0.3022\n",
            "Epoch 6/10\n",
            "15/15 [==============================] - 2s 139ms/step - loss: 2.5288 - accuracy: 0.3167\n",
            "Epoch 7/10\n",
            "15/15 [==============================] - 2s 137ms/step - loss: 2.4431 - accuracy: 0.3389\n",
            "Epoch 8/10\n",
            "15/15 [==============================] - 2s 137ms/step - loss: 2.3926 - accuracy: 0.3456\n",
            "Epoch 9/10\n",
            "15/15 [==============================] - 2s 140ms/step - loss: 2.2954 - accuracy: 0.3767\n",
            "Epoch 10/10\n",
            "15/15 [==============================] - 2s 141ms/step - loss: 2.2275 - accuracy: 0.3878\n"
          ]
        },
        {
          "output_type": "stream",
          "name": "stderr",
          "text": [
            "No handles with labels found to put in legend.\n"
          ]
        },
        {
          "output_type": "stream",
          "name": "stdout",
          "text": [
            "средняя дистанция по 0: 2.72505561548657\n",
            "средняя дистанция по 1: 2.5579071678911083\n",
            "std по 0: 0.612386413392027\n",
            "std по 1: 0.6410896170719339\n",
            "доверит.интервал 0 (2.6530716724456247, 2.797039558527515)\n",
            "доверит.интервал 1 (2.483092584553935, 2.6327217512282814)\n",
            "интервал 3 sigms 0 [0.8878963753104889, 4.562214855662651]\n",
            "интервал 3 sigma 1 [0.6346383166753067, 4.481176019106909]\n",
            "тест Мана-Уитни p_value: 6.287500915044553e-05\n",
            "тест Вилкокса p_value: 0.00017454649776092143\n",
            "0.0 4.179386762691173\n"
          ]
        },
        {
          "output_type": "display_data",
          "data": {
            "image/png": "[encoded data removed]",
            "text/plain": [
              "<Figure size 432x288 with 1 Axes>"
            ]
          },
          "metadata": {
            "needs_background": "light"
          }
        },
        {
          "output_type": "stream",
          "name": "stdout",
          "text": [
            "[11, 10, 5] [36, 25]\n",
            "Accuracy для mod: 0.5329896907216495\n",
            "ERR для mod: 0.533197133517727\n",
            "Epoch 1/10\n",
            "15/15 [==============================] - 3s 107ms/step - loss: 3.1619 - accuracy: 0.0922\n",
            "Epoch 2/10\n",
            "15/15 [==============================] - 2s 107ms/step - loss: 3.0335 - accuracy: 0.1244\n",
            "Epoch 3/10\n",
            "15/15 [==============================] - 2s 110ms/step - loss: 2.9790 - accuracy: 0.1389\n",
            "Epoch 4/10\n",
            "15/15 [==============================] - 2s 106ms/step - loss: 2.8910 - accuracy: 0.1922\n",
            "Epoch 5/10\n",
            "15/15 [==============================] - 2s 110ms/step - loss: 2.7494 - accuracy: 0.2744\n",
            "Epoch 6/10\n",
            "15/15 [==============================] - 2s 110ms/step - loss: 2.6353 - accuracy: 0.3111\n",
            "Epoch 7/10\n",
            "15/15 [==============================] - 2s 107ms/step - loss: 2.5230 - accuracy: 0.3422\n",
            "Epoch 8/10\n",
            "15/15 [==============================] - 2s 109ms/step - loss: 2.4355 - accuracy: 0.3744\n",
            "Epoch 9/10\n",
            "15/15 [==============================] - 2s 109ms/step - loss: 2.2936 - accuracy: 0.4167\n",
            "Epoch 10/10\n",
            "15/15 [==============================] - 2s 109ms/step - loss: 2.2175 - accuracy: 0.4100\n"
          ]
        },
        {
          "output_type": "stream",
          "name": "stderr",
          "text": [
            "No handles with labels found to put in legend.\n"
          ]
        },
        {
          "output_type": "stream",
          "name": "stdout",
          "text": [
            "средняя дистанция по 0: 2.778947860440643\n",
            "средняя дистанция по 1: 2.595543582648019\n",
            "std по 0: 0.5721684188514695\n",
            "std по 1: 0.5813372440279229\n",
            "доверит.интервал 0 (2.7116914060652166, 2.846204314816069)\n",
            "доверит.интервал 1 (2.527702047654871, 2.663385117641167)\n",
            "интервал 3 sigms 0 [1.0624426038862342, 4.495453116995051]\n",
            "интервал 3 sigma 1 [0.8515318505642502, 4.339555314731788]\n",
            "тест Мана-Уитни p_value: 1.536036195214982e-06\n",
            "тест Вилкокса p_value: 6.6215544073847424e-06\n",
            "0.0 4.329397517129621\n"
          ]
        },
        {
          "output_type": "display_data",
          "data": {
            "image/png": "[encoded data removed]",
            "text/plain": [
              "<Figure size 432x288 with 1 Axes>"
            ]
          },
          "metadata": {
            "needs_background": "light"
          }
        },
        {
          "output_type": "stream",
          "name": "stdout",
          "text": [
            "[4, 5, 19] [62, 25]\n",
            "Accuracy для mod: 0.5536082474226804\n",
            "ERR для mod: 0.5548172827089095\n",
            "Epoch 1/10\n",
            "15/15 [==============================] - 3s 130ms/step - loss: 3.1362 - accuracy: 0.1356\n",
            "Epoch 2/10\n",
            "15/15 [==============================] - 2s 132ms/step - loss: 3.1197 - accuracy: 0.1167\n",
            "Epoch 3/10\n",
            "15/15 [==============================] - 2s 128ms/step - loss: 3.0702 - accuracy: 0.1233\n",
            "Epoch 4/10\n",
            "15/15 [==============================] - 2s 132ms/step - loss: 3.0221 - accuracy: 0.1456\n",
            "Epoch 5/10\n",
            "15/15 [==============================] - 2s 132ms/step - loss: 2.9956 - accuracy: 0.1422\n",
            "Epoch 6/10\n",
            "15/15 [==============================] - 2s 133ms/step - loss: 3.0106 - accuracy: 0.1456\n",
            "Epoch 7/10\n",
            "15/15 [==============================] - 2s 129ms/step - loss: 2.9965 - accuracy: 0.1456\n",
            "Epoch 8/10\n",
            "15/15 [==============================] - 2s 131ms/step - loss: 2.9770 - accuracy: 0.1456\n",
            "Epoch 9/10\n",
            "15/15 [==============================] - 2s 129ms/step - loss: 2.9681 - accuracy: 0.1456\n",
            "Epoch 10/10\n",
            "15/15 [==============================] - 2s 131ms/step - loss: 2.9649 - accuracy: 0.1456\n"
          ]
        },
        {
          "output_type": "stream",
          "name": "stderr",
          "text": [
            "No handles with labels found to put in legend.\n"
          ]
        },
        {
          "output_type": "stream",
          "name": "stdout",
          "text": [
            "средняя дистанция по 0: 1.924136363491283e-20\n",
            "средняя дистанция по 1: 3.406263959267832e-08\n",
            "std по 0: 3.362694140452914e-19\n",
            "std по 1: 7.547776740444025e-07\n",
            "доверит.интервал 0 (-2.0285963911383423e-20, 5.876869118120909e-20)\n",
            "доверит.интервал 1 (-5.401923802958331e-08, 1.2214451721493996e-07)\n",
            "интервал 3 sigms 0 [-9.895668785009613e-19, 1.028049605770787e-18]\n",
            "интервал 3 sigma 1 [-2.2302703825405294e-06, 2.2983956617258858e-06]\n",
            "тест Мана-Уитни p_value: 0.2666558953264894\n",
            "тест Вилкокса p_value: 0.2355865105540188\n",
            "0.0 1.67588186791532e-05\n"
          ]
        },
        {
          "output_type": "display_data",
          "data": {
            "image/png": "[encoded data removed]",
            "text/plain": [
              "<Figure size 432x288 with 1 Axes>"
            ]
          },
          "metadata": {
            "needs_background": "light"
          }
        },
        {
          "output_type": "stream",
          "name": "stdout",
          "text": [
            "[7, 8, 25] [55, 25]\n",
            "Accuracy для mod: 0.010309278350515464\n",
            "ERR для mod: 0.010309278350515464\n"
          ]
        }
      ]
    },
    {
      "cell_type": "markdown",
      "metadata": {
        "id": "f5doqo9LMA5f"
      },
      "source": [
        "Результаты моделирования "
      ]
    },
    {
      "cell_type": "code",
      "metadata": {
        "colab": {
          "base_uri": "https://localhost:8080/",
          "height": 363
        },
        "id": "Dq4JnWgQIrEb",
        "outputId": "8c8a0b45-3420-4a58-f540-21f66a6745e8"
      },
      "source": [
        "rez"
      ],
      "execution_count": null,
      "outputs": [
        {
          "output_type": "execute_result",
          "data": {
            "text/html": [
              "<div>\n",
              "<style scoped>\n",
              "    .dataframe tbody tr th:only-of-type {\n",
              "        vertical-align: middle;\n",
              "    }\n",
              "\n",
              "    .dataframe tbody tr th {\n",
              "        vertical-align: top;\n",
              "    }\n",
              "\n",
              "    .dataframe thead th {\n",
              "        text-align: right;\n",
              "    }\n",
              "</style>\n",
              "<table border=\"1\" class=\"dataframe\">\n",
              "  <thead>\n",
              "    <tr style=\"text-align: right;\">\n",
              "      <th></th>\n",
              "      <th>c1</th>\n",
              "      <th>c2</th>\n",
              "      <th>c3</th>\n",
              "      <th>d1</th>\n",
              "      <th>acc</th>\n",
              "      <th>eer</th>\n",
              "    </tr>\n",
              "  </thead>\n",
              "  <tbody>\n",
              "    <tr>\n",
              "      <th>0</th>\n",
              "      <td>32.0</td>\n",
              "      <td>17.0</td>\n",
              "      <td>21.0</td>\n",
              "      <td>12.0</td>\n",
              "      <td>0.520015</td>\n",
              "      <td>0.520619</td>\n",
              "    </tr>\n",
              "    <tr>\n",
              "      <th>1</th>\n",
              "      <td>26.0</td>\n",
              "      <td>22.0</td>\n",
              "      <td>23.0</td>\n",
              "      <td>10.0</td>\n",
              "      <td>0.543521</td>\n",
              "      <td>0.541237</td>\n",
              "    </tr>\n",
              "    <tr>\n",
              "      <th>2</th>\n",
              "      <td>47.0</td>\n",
              "      <td>23.0</td>\n",
              "      <td>29.0</td>\n",
              "      <td>16.0</td>\n",
              "      <td>0.498011</td>\n",
              "      <td>0.498969</td>\n",
              "    </tr>\n",
              "    <tr>\n",
              "      <th>3</th>\n",
              "      <td>48.0</td>\n",
              "      <td>27.0</td>\n",
              "      <td>30.0</td>\n",
              "      <td>24.0</td>\n",
              "      <td>0.498984</td>\n",
              "      <td>0.498969</td>\n",
              "    </tr>\n",
              "    <tr>\n",
              "      <th>4</th>\n",
              "      <td>41.0</td>\n",
              "      <td>29.0</td>\n",
              "      <td>8.0</td>\n",
              "      <td>25.0</td>\n",
              "      <td>0.538381</td>\n",
              "      <td>0.538144</td>\n",
              "    </tr>\n",
              "    <tr>\n",
              "      <th>5</th>\n",
              "      <td>41.0</td>\n",
              "      <td>25.0</td>\n",
              "      <td>20.0</td>\n",
              "      <td>11.0</td>\n",
              "      <td>0.532313</td>\n",
              "      <td>0.530928</td>\n",
              "    </tr>\n",
              "    <tr>\n",
              "      <th>6</th>\n",
              "      <td>19.0</td>\n",
              "      <td>19.0</td>\n",
              "      <td>17.0</td>\n",
              "      <td>16.0</td>\n",
              "      <td>0.551680</td>\n",
              "      <td>0.551546</td>\n",
              "    </tr>\n",
              "    <tr>\n",
              "      <th>7</th>\n",
              "      <td>55.0</td>\n",
              "      <td>29.0</td>\n",
              "      <td>18.0</td>\n",
              "      <td>14.0</td>\n",
              "      <td>0.529117</td>\n",
              "      <td>0.528866</td>\n",
              "    </tr>\n",
              "    <tr>\n",
              "      <th>8</th>\n",
              "      <td>19.0</td>\n",
              "      <td>28.0</td>\n",
              "      <td>18.0</td>\n",
              "      <td>17.0</td>\n",
              "      <td>0.523020</td>\n",
              "      <td>0.520619</td>\n",
              "    </tr>\n",
              "    <tr>\n",
              "      <th>9</th>\n",
              "      <td>37.0</td>\n",
              "      <td>8.0</td>\n",
              "      <td>19.0</td>\n",
              "      <td>16.0</td>\n",
              "      <td>0.549604</td>\n",
              "      <td>0.549485</td>\n",
              "    </tr>\n",
              "  </tbody>\n",
              "</table>\n",
              "</div>"
            ],
            "text/plain": [
              "     c1    c2    c3    d1       acc       eer\n",
              "0  32.0  17.0  21.0  12.0  0.520015  0.520619\n",
              "1  26.0  22.0  23.0  10.0  0.543521  0.541237\n",
              "2  47.0  23.0  29.0  16.0  0.498011  0.498969\n",
              "3  48.0  27.0  30.0  24.0  0.498984  0.498969\n",
              "4  41.0  29.0   8.0  25.0  0.538381  0.538144\n",
              "5  41.0  25.0  20.0  11.0  0.532313  0.530928\n",
              "6  19.0  19.0  17.0  16.0  0.551680  0.551546\n",
              "7  55.0  29.0  18.0  14.0  0.529117  0.528866\n",
              "8  19.0  28.0  18.0  17.0  0.523020  0.520619\n",
              "9  37.0   8.0  19.0  16.0  0.549604  0.549485"
            ]
          },
          "metadata": {},
          "execution_count": 124
        }
      ]
    },
    {
      "cell_type": "code",
      "metadata": {
        "colab": {
          "base_uri": "https://localhost:8080/",
          "height": 363
        },
        "id": "cBr1Mu6VL_FL",
        "outputId": "688c3f85-f831-454c-c409-96fa6e4264e6"
      },
      "source": [
        "rez1"
      ],
      "execution_count": null,
      "outputs": [
        {
          "output_type": "execute_result",
          "data": {
            "text/html": [
              "<div>\n",
              "<style scoped>\n",
              "    .dataframe tbody tr th:only-of-type {\n",
              "        vertical-align: middle;\n",
              "    }\n",
              "\n",
              "    .dataframe tbody tr th {\n",
              "        vertical-align: top;\n",
              "    }\n",
              "\n",
              "    .dataframe thead th {\n",
              "        text-align: right;\n",
              "    }\n",
              "</style>\n",
              "<table border=\"1\" class=\"dataframe\">\n",
              "  <thead>\n",
              "    <tr style=\"text-align: right;\">\n",
              "      <th></th>\n",
              "      <th>c1</th>\n",
              "      <th>c2</th>\n",
              "      <th>c3</th>\n",
              "      <th>d1</th>\n",
              "      <th>acc</th>\n",
              "      <th>eer</th>\n",
              "    </tr>\n",
              "  </thead>\n",
              "  <tbody>\n",
              "    <tr>\n",
              "      <th>0</th>\n",
              "      <td>7.0</td>\n",
              "      <td>19.0</td>\n",
              "      <td>19.0</td>\n",
              "      <td>40.0</td>\n",
              "      <td>0.557925</td>\n",
              "      <td>0.555670</td>\n",
              "    </tr>\n",
              "    <tr>\n",
              "      <th>1</th>\n",
              "      <td>6.0</td>\n",
              "      <td>24.0</td>\n",
              "      <td>10.0</td>\n",
              "      <td>25.0</td>\n",
              "      <td>0.533270</td>\n",
              "      <td>0.531959</td>\n",
              "    </tr>\n",
              "    <tr>\n",
              "      <th>2</th>\n",
              "      <td>13.0</td>\n",
              "      <td>4.0</td>\n",
              "      <td>22.0</td>\n",
              "      <td>20.0</td>\n",
              "      <td>0.515891</td>\n",
              "      <td>0.514433</td>\n",
              "    </tr>\n",
              "    <tr>\n",
              "      <th>3</th>\n",
              "      <td>14.0</td>\n",
              "      <td>13.0</td>\n",
              "      <td>11.0</td>\n",
              "      <td>20.0</td>\n",
              "      <td>0.526069</td>\n",
              "      <td>0.524742</td>\n",
              "    </tr>\n",
              "    <tr>\n",
              "      <th>4</th>\n",
              "      <td>8.0</td>\n",
              "      <td>22.0</td>\n",
              "      <td>4.0</td>\n",
              "      <td>11.0</td>\n",
              "      <td>0.529191</td>\n",
              "      <td>0.529897</td>\n",
              "    </tr>\n",
              "    <tr>\n",
              "      <th>5</th>\n",
              "      <td>14.0</td>\n",
              "      <td>24.0</td>\n",
              "      <td>7.0</td>\n",
              "      <td>47.0</td>\n",
              "      <td>0.530207</td>\n",
              "      <td>0.530928</td>\n",
              "    </tr>\n",
              "    <tr>\n",
              "      <th>6</th>\n",
              "      <td>11.0</td>\n",
              "      <td>27.0</td>\n",
              "      <td>26.0</td>\n",
              "      <td>37.0</td>\n",
              "      <td>0.494963</td>\n",
              "      <td>0.495876</td>\n",
              "    </tr>\n",
              "    <tr>\n",
              "      <th>7</th>\n",
              "      <td>11.0</td>\n",
              "      <td>10.0</td>\n",
              "      <td>5.0</td>\n",
              "      <td>36.0</td>\n",
              "      <td>0.533197</td>\n",
              "      <td>0.532990</td>\n",
              "    </tr>\n",
              "    <tr>\n",
              "      <th>8</th>\n",
              "      <td>4.0</td>\n",
              "      <td>5.0</td>\n",
              "      <td>19.0</td>\n",
              "      <td>62.0</td>\n",
              "      <td>0.554817</td>\n",
              "      <td>0.553608</td>\n",
              "    </tr>\n",
              "    <tr>\n",
              "      <th>9</th>\n",
              "      <td>7.0</td>\n",
              "      <td>8.0</td>\n",
              "      <td>25.0</td>\n",
              "      <td>55.0</td>\n",
              "      <td>0.010309</td>\n",
              "      <td>0.010309</td>\n",
              "    </tr>\n",
              "  </tbody>\n",
              "</table>\n",
              "</div>"
            ],
            "text/plain": [
              "     c1    c2    c3    d1       acc       eer\n",
              "0   7.0  19.0  19.0  40.0  0.557925  0.555670\n",
              "1   6.0  24.0  10.0  25.0  0.533270  0.531959\n",
              "2  13.0   4.0  22.0  20.0  0.515891  0.514433\n",
              "3  14.0  13.0  11.0  20.0  0.526069  0.524742\n",
              "4   8.0  22.0   4.0  11.0  0.529191  0.529897\n",
              "5  14.0  24.0   7.0  47.0  0.530207  0.530928\n",
              "6  11.0  27.0  26.0  37.0  0.494963  0.495876\n",
              "7  11.0  10.0   5.0  36.0  0.533197  0.532990\n",
              "8   4.0   5.0  19.0  62.0  0.554817  0.553608\n",
              "9   7.0   8.0  25.0  55.0  0.010309  0.010309"
            ]
          },
          "metadata": {},
          "execution_count": 128
        }
      ]
    },
    {
      "cell_type": "markdown",
      "metadata": {
        "id": "tHGS04CLPNKs"
      },
      "source": [
        "Результаты анализа гипотез 0 и 1:\n",
        "\n",
        "  - Гипотеза 0 - провальная\n",
        "  - гипотеза 1 - можно учить (брать разные классы у учить верхние слои  - брать большой вектор на выходе)\n",
        "\n",
        "\n",
        "\n",
        "  Финальная модель по Гипотезе 1:"
      ]
    },
    {
      "cell_type": "code",
      "metadata": {
        "colab": {
          "base_uri": "https://localhost:8080/",
          "height": 1000
        },
        "id": "w0lqWsx3PLIz",
        "outputId": "7eac10f1-d747-4c15-f605-331662d8b9a5"
      },
      "source": [
        "if 1:\n",
        "  conv = [16,8,16,16]\n",
        "  den = [128,30]\n",
        "  #rand_project = rand_class(levels_c = conv,level_d = den )\n",
        "  rand_project.fit(image[:1000],keras.utils.to_categorical(label[:1000]),batch_size = 64, epochs = 20)\n",
        "  mod = keras.models.Model(rand_project.inputs,rand_project.layers[-3].output)\n",
        "\n",
        "  f_new = mod.predict(image[1000:,:,:,:])\n",
        "  dist = []\n",
        "  \n",
        "  for nn in zip(ind1,ind2):\n",
        "\n",
        "    dist.append(diff(f_new[nn[1],:],f_new[nn[0],:]))\n",
        "\n",
        "  dist = np.array(dist)\n",
        "  stat_rand, eer_rand,acc_rand = image_clast_net(dist,labe_,    verbose=1)\n",
        "\n",
        "  print(conv,den)\n",
        "  print('Accuracy для mod:', acc_rand)\n",
        "  print('ERR для mod:', eer_rand)\n",
        "  "
      ],
      "execution_count": null,
      "outputs": [
        {
          "output_type": "stream",
          "name": "stdout",
          "text": [
            "Epoch 1/20\n",
            "16/16 [==============================] - 2s 154ms/step - loss: 1.6630 - accuracy: 0.6130\n",
            "Epoch 2/20\n",
            "16/16 [==============================] - 2s 155ms/step - loss: 1.6155 - accuracy: 0.6300\n",
            "Epoch 3/20\n",
            "16/16 [==============================] - 3s 157ms/step - loss: 1.5755 - accuracy: 0.6500\n",
            "Epoch 4/20\n",
            "16/16 [==============================] - 2s 155ms/step - loss: 1.5359 - accuracy: 0.6540\n",
            "Epoch 5/20\n",
            "16/16 [==============================] - 3s 155ms/step - loss: 1.4637 - accuracy: 0.6900\n",
            "Epoch 6/20\n",
            "16/16 [==============================] - 2s 157ms/step - loss: 1.4373 - accuracy: 0.6910\n",
            "Epoch 7/20\n",
            "16/16 [==============================] - 2s 156ms/step - loss: 1.4006 - accuracy: 0.7030\n",
            "Epoch 8/20\n",
            "16/16 [==============================] - 2s 155ms/step - loss: 1.3308 - accuracy: 0.7230\n",
            "Epoch 9/20\n",
            "16/16 [==============================] - 2s 153ms/step - loss: 1.2842 - accuracy: 0.7300\n",
            "Epoch 10/20\n",
            "16/16 [==============================] - 2s 156ms/step - loss: 1.2405 - accuracy: 0.7410\n",
            "Epoch 11/20\n",
            "16/16 [==============================] - 2s 155ms/step - loss: 1.1984 - accuracy: 0.7580\n",
            "Epoch 12/20\n",
            "16/16 [==============================] - 2s 155ms/step - loss: 1.1379 - accuracy: 0.7840\n",
            "Epoch 13/20\n",
            "16/16 [==============================] - 2s 154ms/step - loss: 1.1411 - accuracy: 0.7700\n",
            "Epoch 14/20\n",
            "16/16 [==============================] - 3s 157ms/step - loss: 1.0672 - accuracy: 0.7880\n",
            "Epoch 15/20\n",
            "16/16 [==============================] - 2s 154ms/step - loss: 1.0546 - accuracy: 0.7860\n",
            "Epoch 16/20\n",
            "16/16 [==============================] - 2s 155ms/step - loss: 0.9858 - accuracy: 0.8070\n",
            "Epoch 17/20\n",
            "16/16 [==============================] - 2s 155ms/step - loss: 1.0030 - accuracy: 0.8100\n",
            "Epoch 18/20\n",
            "16/16 [==============================] - 3s 161ms/step - loss: 0.9179 - accuracy: 0.8290\n",
            "Epoch 19/20\n",
            "16/16 [==============================] - 2s 156ms/step - loss: 0.8850 - accuracy: 0.8360\n",
            "Epoch 20/20\n",
            "16/16 [==============================] - 3s 155ms/step - loss: 0.8814 - accuracy: 0.8390\n"
          ]
        },
        {
          "output_type": "stream",
          "name": "stderr",
          "text": [
            "No handles with labels found to put in legend.\n"
          ]
        },
        {
          "output_type": "display_data",
          "data": {
            "image/png": "[encoded data removed]",
            "text/plain": [
              "<Figure size 1152x360 with 2 Axes>"
            ]
          },
          "metadata": {
            "needs_background": "light"
          }
        },
        {
          "output_type": "stream",
          "name": "stdout",
          "text": [
            "средняя дистанция по 0: 3.464045488054889\n",
            "средняя дистанция по 1: 3.2883909305191996\n",
            "std по 0: 0.5486071621536142\n",
            "std по 1: 0.6075045464691206\n",
            "доверит.интервал 0 (3.399558579382995, 3.5285323967267828)\n",
            "доверит.интервал 1 (3.2174956947998763, 3.359286166238523)\n",
            "интервал 3 sigms 0 [1.8182240015940465, 5.1098669745157315]\n",
            "интервал 3 sigma 1 [1.465877291111838, 5.110904569926561]\n"
          ]
        },
        {
          "output_type": "display_data",
          "data": {
            "image/png": "[encoded data removed]",
            "text/plain": [
              "<Figure size 432x288 with 1 Axes>"
            ]
          },
          "metadata": {
            "needs_background": "light"
          }
        },
        {
          "output_type": "stream",
          "name": "stderr",
          "text": [
            "No handles with labels found to put in legend.\n"
          ]
        },
        {
          "output_type": "stream",
          "name": "stdout",
          "text": [
            "тест Мана-Уитни p_value: 8.54011206546227e-07\n",
            "тест Вилкокса p_value: 1.6724565604404395e-07\n",
            "0.0 4.940669913332086\n"
          ]
        },
        {
          "output_type": "display_data",
          "data": {
            "image/png": "[encoded data removed]",
            "text/plain": [
              "<Figure size 432x288 with 1 Axes>"
            ]
          },
          "metadata": {
            "needs_background": "light"
          }
        },
        {
          "output_type": "stream",
          "name": "stdout",
          "text": [
            "[16, 8, 16, 16] [128, 30]\n",
            "Accuracy для mod: 0.5628865979381443\n",
            "ERR для mod: 0.5629620316821725\n"
          ]
        }
      ]
    },
    {
      "cell_type": "code",
      "metadata": {
        "colab": {
          "base_uri": "https://localhost:8080/"
        },
        "id": "HcxJLsKgQK8Y",
        "outputId": "2e83255d-0c2f-4297-c067-1ab6f7586248"
      },
      "source": [
        "rand_project.summary()"
      ],
      "execution_count": null,
      "outputs": [
        {
          "output_type": "stream",
          "name": "stdout",
          "text": [
            "Model: \"sequential_39\"\n",
            "_________________________________________________________________\n",
            " Layer (type)                Output Shape              Param #   \n",
            "=================================================================\n",
            " conv3d_39 (Conv3D)          (None, 1, 32, 32, 16)     448       \n",
            "                                                                 \n",
            " conv2d_146 (Conv2D)         (None, 1, 32, 32, 8)      1160      \n",
            "                                                                 \n",
            " conv2d_147 (Conv2D)         (None, 1, 16, 16, 8)      584       \n",
            "                                                                 \n",
            " conv2d_148 (Conv2D)         (None, 1, 16, 16, 16)     1168      \n",
            "                                                                 \n",
            " conv2d_149 (Conv2D)         (None, 1, 8, 8, 16)       2320      \n",
            "                                                                 \n",
            " conv2d_150 (Conv2D)         (None, 1, 8, 8, 16)       2320      \n",
            "                                                                 \n",
            " conv2d_151 (Conv2D)         (None, 1, 4, 4, 16)       2320      \n",
            "                                                                 \n",
            " flatten_38 (Flatten)        (None, 256)               0         \n",
            "                                                                 \n",
            " dense_144 (Dense)           (None, 128)               32896     \n",
            "                                                                 \n",
            " dense_145 (Dense)           (None, 30)                3870      \n",
            "                                                                 \n",
            " dense_146 (Dense)           (None, 30)                930       \n",
            "                                                                 \n",
            " dense_147 (Dense)           (None, 30)                930       \n",
            "                                                                 \n",
            " softmax_36 (Softmax)        (None, 30)                0         \n",
            "                                                                 \n",
            "=================================================================\n",
            "Total params: 48,946\n",
            "Trainable params: 46,754\n",
            "Non-trainable params: 2,192\n",
            "_________________________________________________________________\n"
          ]
        }
      ]
    },
    {
      "cell_type": "markdown",
      "metadata": {
        "id": "03U_1x8LUjA4"
      },
      "source": [
        "Вывод:    \n",
        " -  распознавание на уровне 55-56%\n",
        " - размер сети 50М"
      ]
    },
    {
      "cell_type": "code",
      "metadata": {
        "id": "G5UppAzpUR2s"
      },
      "source": [
        "rand_project.save_weights(path_c+'rand_net_.h5')"
      ],
      "execution_count": null,
      "outputs": []
    },
    {
      "cell_type": "code",
      "metadata": {
        "id": "VMeGM-TBVGsM"
      },
      "source": [
        ""
      ],
      "execution_count": null,
      "outputs": []
    }
  ]
}